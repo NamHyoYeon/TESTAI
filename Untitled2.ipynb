{
 "cells": [
  {
   "cell_type": "code",
   "execution_count": 5,
   "metadata": {},
   "outputs": [
    {
     "name": "stdout",
     "output_type": "stream",
     "text": [
      "3-16\n"
     ]
    }
   ],
   "source": [
    "x=3\n",
    "y=4\n",
    "print(f'{x}-{y*4}')"
   ]
  },
  {
   "cell_type": "code",
   "execution_count": 6,
   "metadata": {},
   "outputs": [
    {
     "name": "stdout",
     "output_type": "stream",
     "text": [
      "0\n",
      "1\n",
      "2\n",
      "3\n",
      "4\n",
      "5\n",
      "6\n",
      "7\n",
      "8\n",
      "9\n"
     ]
    }
   ],
   "source": [
    "for i in range (10) :\n",
    "    print(i)"
   ]
  },
  {
   "cell_type": "code",
   "execution_count": 8,
   "metadata": {},
   "outputs": [
    {
     "name": "stdout",
     "output_type": "stream",
     "text": [
      "0\n",
      "3\n",
      "6\n",
      "9\n",
      "12\n",
      "15\n",
      "18\n",
      "21\n",
      "24\n",
      "27\n"
     ]
    }
   ],
   "source": [
    "for i in range(10):\n",
    "    print(i*3)"
   ]
  },
  {
   "cell_type": "code",
   "execution_count": 11,
   "metadata": {},
   "outputs": [
    {
     "data": {
      "text/plain": [
       "\u001b[0;31mInit signature:\u001b[0m \u001b[0mrange\u001b[0m\u001b[0;34m(\u001b[0m\u001b[0mself\u001b[0m\u001b[0;34m,\u001b[0m \u001b[0;34m/\u001b[0m\u001b[0;34m,\u001b[0m \u001b[0;34m*\u001b[0m\u001b[0margs\u001b[0m\u001b[0;34m,\u001b[0m \u001b[0;34m**\u001b[0m\u001b[0mkwargs\u001b[0m\u001b[0;34m)\u001b[0m\u001b[0;34m\u001b[0m\u001b[0;34m\u001b[0m\u001b[0m\n",
       "\u001b[0;31mDocstring:\u001b[0m     \n",
       "range(stop) -> range object\n",
       "range(start, stop[, step]) -> range object\n",
       "\n",
       "Return an object that produces a sequence of integers from start (inclusive)\n",
       "to stop (exclusive) by step.  range(i, j) produces i, i+1, i+2, ..., j-1.\n",
       "start defaults to 0, and stop is omitted!  range(4) produces 0, 1, 2, 3.\n",
       "These are exactly the valid indices for a list of 4 elements.\n",
       "When step is given, it specifies the increment (or decrement).\n",
       "\u001b[0;31mType:\u001b[0m           type\n",
       "\u001b[0;31mSubclasses:\u001b[0m     \n"
      ]
     },
     "metadata": {},
     "output_type": "display_data"
    }
   ],
   "source": [
    "?range"
   ]
  },
  {
   "cell_type": "code",
   "execution_count": 13,
   "metadata": {},
   "outputs": [],
   "source": [
    "l = [1,2,3,4]"
   ]
  },
  {
   "cell_type": "code",
   "execution_count": 14,
   "metadata": {},
   "outputs": [
    {
     "data": {
      "text/plain": [
       "<function dir>"
      ]
     },
     "execution_count": 14,
     "metadata": {},
     "output_type": "execute_result"
    }
   ],
   "source": [
    "dir"
   ]
  },
  {
   "cell_type": "code",
   "execution_count": 15,
   "metadata": {},
   "outputs": [
    {
     "data": {
      "text/plain": [
       "['In',\n",
       " 'Out',\n",
       " '_',\n",
       " '_14',\n",
       " '__',\n",
       " '___',\n",
       " '__builtin__',\n",
       " '__builtins__',\n",
       " '__doc__',\n",
       " '__loader__',\n",
       " '__name__',\n",
       " '__package__',\n",
       " '__spec__',\n",
       " '_dh',\n",
       " '_i',\n",
       " '_i1',\n",
       " '_i10',\n",
       " '_i11',\n",
       " '_i12',\n",
       " '_i13',\n",
       " '_i14',\n",
       " '_i15',\n",
       " '_i2',\n",
       " '_i3',\n",
       " '_i4',\n",
       " '_i5',\n",
       " '_i6',\n",
       " '_i7',\n",
       " '_i8',\n",
       " '_i9',\n",
       " '_ih',\n",
       " '_ii',\n",
       " '_iii',\n",
       " '_oh',\n",
       " 'exit',\n",
       " 'get_ipython',\n",
       " 'i',\n",
       " 'l',\n",
       " 'quit',\n",
       " 'x',\n",
       " 'y']"
      ]
     },
     "execution_count": 15,
     "metadata": {},
     "output_type": "execute_result"
    }
   ],
   "source": [
    "dir()"
   ]
  },
  {
   "cell_type": "code",
   "execution_count": 16,
   "metadata": {},
   "outputs": [
    {
     "data": {
      "text/plain": [
       "1"
      ]
     },
     "execution_count": 16,
     "metadata": {},
     "output_type": "execute_result"
    }
   ],
   "source": [
    "l[0]"
   ]
  },
  {
   "cell_type": "code",
   "execution_count": 17,
   "metadata": {},
   "outputs": [
    {
     "ename": "TypeError",
     "evalue": "'int' object does not support item assignment",
     "output_type": "error",
     "traceback": [
      "\u001b[0;31m---------------------------------------------------------------------------\u001b[0m",
      "\u001b[0;31mTypeError\u001b[0m                                 Traceback (most recent call last)",
      "\u001b[0;32m<ipython-input-17-9d6ceb205428>\u001b[0m in \u001b[0;36m<module>\u001b[0;34m\u001b[0m\n\u001b[0;32m----> 1\u001b[0;31m \u001b[0;36m1\u001b[0m\u001b[0;34m[\u001b[0m\u001b[0;36m0\u001b[0m\u001b[0;34m]\u001b[0m\u001b[0;34m=\u001b[0m\u001b[0;36m100\u001b[0m\u001b[0;34m\u001b[0m\u001b[0;34m\u001b[0m\u001b[0m\n\u001b[0m",
      "\u001b[0;31mTypeError\u001b[0m: 'int' object does not support item assignment"
     ]
    }
   ],
   "source": [
    "1[0]=100\n"
   ]
  },
  {
   "cell_type": "code",
   "execution_count": 18,
   "metadata": {},
   "outputs": [],
   "source": [
    "l[0] = 100"
   ]
  },
  {
   "cell_type": "code",
   "execution_count": 19,
   "metadata": {},
   "outputs": [
    {
     "data": {
      "text/plain": [
       "['__add__',\n",
       " '__class__',\n",
       " '__contains__',\n",
       " '__delattr__',\n",
       " '__delitem__',\n",
       " '__dir__',\n",
       " '__doc__',\n",
       " '__eq__',\n",
       " '__format__',\n",
       " '__ge__',\n",
       " '__getattribute__',\n",
       " '__getitem__',\n",
       " '__gt__',\n",
       " '__hash__',\n",
       " '__iadd__',\n",
       " '__imul__',\n",
       " '__init__',\n",
       " '__init_subclass__',\n",
       " '__iter__',\n",
       " '__le__',\n",
       " '__len__',\n",
       " '__lt__',\n",
       " '__mul__',\n",
       " '__ne__',\n",
       " '__new__',\n",
       " '__reduce__',\n",
       " '__reduce_ex__',\n",
       " '__repr__',\n",
       " '__reversed__',\n",
       " '__rmul__',\n",
       " '__setattr__',\n",
       " '__setitem__',\n",
       " '__sizeof__',\n",
       " '__str__',\n",
       " '__subclasshook__',\n",
       " 'append',\n",
       " 'clear',\n",
       " 'copy',\n",
       " 'count',\n",
       " 'extend',\n",
       " 'index',\n",
       " 'insert',\n",
       " 'pop',\n",
       " 'remove',\n",
       " 'reverse',\n",
       " 'sort']"
      ]
     },
     "execution_count": 19,
     "metadata": {},
     "output_type": "execute_result"
    }
   ],
   "source": [
    "dir(l)"
   ]
  },
  {
   "cell_type": "code",
   "execution_count": 20,
   "metadata": {},
   "outputs": [
    {
     "ename": "AttributeError",
     "evalue": "'list' object has no attribute '_class_'",
     "output_type": "error",
     "traceback": [
      "\u001b[0;31m---------------------------------------------------------------------------\u001b[0m",
      "\u001b[0;31mAttributeError\u001b[0m                            Traceback (most recent call last)",
      "\u001b[0;32m<ipython-input-20-ae0fb69f0c44>\u001b[0m in \u001b[0;36m<module>\u001b[0;34m\u001b[0m\n\u001b[0;32m----> 1\u001b[0;31m \u001b[0ml\u001b[0m\u001b[0;34m.\u001b[0m\u001b[0m_class_\u001b[0m\u001b[0;34m\u001b[0m\u001b[0;34m\u001b[0m\u001b[0m\n\u001b[0m",
      "\u001b[0;31mAttributeError\u001b[0m: 'list' object has no attribute '_class_'"
     ]
    }
   ],
   "source": [
    "l._class_"
   ]
  },
  {
   "cell_type": "code",
   "execution_count": null,
   "metadata": {},
   "outputs": [],
   "source": []
  },
  {
   "cell_type": "code",
   "execution_count": 21,
   "metadata": {},
   "outputs": [
    {
     "data": {
      "text/plain": [
       "list"
      ]
     },
     "execution_count": 21,
     "metadata": {},
     "output_type": "execute_result"
    }
   ],
   "source": [
    "l.__class__"
   ]
  },
  {
   "cell_type": "code",
   "execution_count": 22,
   "metadata": {},
   "outputs": [],
   "source": [
    "t=(1,2,3,4)"
   ]
  },
  {
   "cell_type": "code",
   "execution_count": 23,
   "metadata": {},
   "outputs": [
    {
     "data": {
      "text/plain": [
       "tuple"
      ]
     },
     "execution_count": 23,
     "metadata": {},
     "output_type": "execute_result"
    }
   ],
   "source": [
    "t.__class__"
   ]
  },
  {
   "cell_type": "code",
   "execution_count": 24,
   "metadata": {},
   "outputs": [
    {
     "ename": "TypeError",
     "evalue": "'tuple' object does not support item assignment",
     "output_type": "error",
     "traceback": [
      "\u001b[0;31m---------------------------------------------------------------------------\u001b[0m",
      "\u001b[0;31mTypeError\u001b[0m                                 Traceback (most recent call last)",
      "\u001b[0;32m<ipython-input-24-3382f43ca263>\u001b[0m in \u001b[0;36m<module>\u001b[0;34m\u001b[0m\n\u001b[0;32m----> 1\u001b[0;31m \u001b[0mt\u001b[0m\u001b[0;34m[\u001b[0m\u001b[0;36m0\u001b[0m\u001b[0;34m]\u001b[0m\u001b[0;34m=\u001b[0m\u001b[0;36m100\u001b[0m\u001b[0;34m\u001b[0m\u001b[0;34m\u001b[0m\u001b[0m\n\u001b[0m",
      "\u001b[0;31mTypeError\u001b[0m: 'tuple' object does not support item assignment"
     ]
    }
   ],
   "source": [
    "t[0]=100"
   ]
  },
  {
   "cell_type": "code",
   "execution_count": 25,
   "metadata": {},
   "outputs": [],
   "source": [
    "import math"
   ]
  },
  {
   "cell_type": "code",
   "execution_count": 26,
   "metadata": {},
   "outputs": [
    {
     "data": {
      "text/plain": [
       "['__doc__',\n",
       " '__loader__',\n",
       " '__name__',\n",
       " '__package__',\n",
       " '__spec__',\n",
       " 'acos',\n",
       " 'acosh',\n",
       " 'asin',\n",
       " 'asinh',\n",
       " 'atan',\n",
       " 'atan2',\n",
       " 'atanh',\n",
       " 'ceil',\n",
       " 'copysign',\n",
       " 'cos',\n",
       " 'cosh',\n",
       " 'degrees',\n",
       " 'e',\n",
       " 'erf',\n",
       " 'erfc',\n",
       " 'exp',\n",
       " 'expm1',\n",
       " 'fabs',\n",
       " 'factorial',\n",
       " 'floor',\n",
       " 'fmod',\n",
       " 'frexp',\n",
       " 'fsum',\n",
       " 'gamma',\n",
       " 'gcd',\n",
       " 'hypot',\n",
       " 'inf',\n",
       " 'isclose',\n",
       " 'isfinite',\n",
       " 'isinf',\n",
       " 'isnan',\n",
       " 'ldexp',\n",
       " 'lgamma',\n",
       " 'log',\n",
       " 'log10',\n",
       " 'log1p',\n",
       " 'log2',\n",
       " 'modf',\n",
       " 'nan',\n",
       " 'pi',\n",
       " 'pow',\n",
       " 'radians',\n",
       " 'sin',\n",
       " 'sinh',\n",
       " 'sqrt',\n",
       " 'tan',\n",
       " 'tanh',\n",
       " 'tau',\n",
       " 'trunc']"
      ]
     },
     "execution_count": 26,
     "metadata": {},
     "output_type": "execute_result"
    }
   ],
   "source": [
    "dir(math)"
   ]
  },
  {
   "cell_type": "code",
   "execution_count": 27,
   "metadata": {},
   "outputs": [
    {
     "data": {
      "text/plain": [
       "-0.9524129804151563"
      ]
     },
     "execution_count": 27,
     "metadata": {},
     "output_type": "execute_result"
    }
   ],
   "source": [
    "math.cos(60)"
   ]
  },
  {
   "cell_type": "code",
   "execution_count": 28,
   "metadata": {},
   "outputs": [
    {
     "name": "stdout",
     "output_type": "stream",
     "text": [
      "Help on built-in function cos in module math:\n",
      "\n",
      "cos(...)\n",
      "    cos(x)\n",
      "    \n",
      "    Return the cosine of x (measured in radians).\n",
      "\n"
     ]
    }
   ],
   "source": [
    "help(math.cos)"
   ]
  },
  {
   "cell_type": "code",
   "execution_count": 30,
   "metadata": {},
   "outputs": [
    {
     "data": {
      "text/plain": [
       "0.5000000000000001"
      ]
     },
     "execution_count": 30,
     "metadata": {},
     "output_type": "execute_result"
    }
   ],
   "source": [
    "math.cos(math.pi/3)"
   ]
  },
  {
   "cell_type": "code",
   "execution_count": 31,
   "metadata": {},
   "outputs": [],
   "source": [
    "import math as m"
   ]
  },
  {
   "cell_type": "code",
   "execution_count": 32,
   "metadata": {},
   "outputs": [
    {
     "data": {
      "text/plain": [
       "0.5000000000000001"
      ]
     },
     "execution_count": 32,
     "metadata": {},
     "output_type": "execute_result"
    }
   ],
   "source": [
    "m.cos(m.pi/3)"
   ]
  },
  {
   "cell_type": "code",
   "execution_count": 33,
   "metadata": {},
   "outputs": [],
   "source": [
    "from math import cos as m"
   ]
  },
  {
   "cell_type": "code",
   "execution_count": 36,
   "metadata": {},
   "outputs": [],
   "source": [
    "from math import cos as m\n",
    "from math import pi as p"
   ]
  },
  {
   "cell_type": "code",
   "execution_count": 39,
   "metadata": {},
   "outputs": [
    {
     "data": {
      "text/plain": [
       "['__call__',\n",
       " '__class__',\n",
       " '__delattr__',\n",
       " '__dir__',\n",
       " '__doc__',\n",
       " '__eq__',\n",
       " '__format__',\n",
       " '__ge__',\n",
       " '__getattribute__',\n",
       " '__gt__',\n",
       " '__hash__',\n",
       " '__init__',\n",
       " '__init_subclass__',\n",
       " '__le__',\n",
       " '__lt__',\n",
       " '__module__',\n",
       " '__name__',\n",
       " '__ne__',\n",
       " '__new__',\n",
       " '__qualname__',\n",
       " '__reduce__',\n",
       " '__reduce_ex__',\n",
       " '__repr__',\n",
       " '__self__',\n",
       " '__setattr__',\n",
       " '__sizeof__',\n",
       " '__str__',\n",
       " '__subclasshook__',\n",
       " '__text_signature__']"
      ]
     },
     "execution_count": 39,
     "metadata": {},
     "output_type": "execute_result"
    }
   ],
   "source": [
    "dir(m)"
   ]
  },
  {
   "cell_type": "code",
   "execution_count": 40,
   "metadata": {},
   "outputs": [
    {
     "ename": "NameError",
     "evalue": "name 'sin' is not defined",
     "output_type": "error",
     "traceback": [
      "\u001b[0;31m---------------------------------------------------------------------------\u001b[0m",
      "\u001b[0;31mNameError\u001b[0m                                 Traceback (most recent call last)",
      "\u001b[0;32m<ipython-input-40-5c5d32f623ab>\u001b[0m in \u001b[0;36m<module>\u001b[0;34m\u001b[0m\n\u001b[0;32m----> 1\u001b[0;31m \u001b[0mhelp\u001b[0m\u001b[0;34m(\u001b[0m\u001b[0msin\u001b[0m\u001b[0;34m)\u001b[0m\u001b[0;34m\u001b[0m\u001b[0;34m\u001b[0m\u001b[0m\n\u001b[0m",
      "\u001b[0;31mNameError\u001b[0m: name 'sin' is not defined"
     ]
    }
   ],
   "source": [
    "help(sin)"
   ]
  },
  {
   "cell_type": "code",
   "execution_count": 41,
   "metadata": {},
   "outputs": [
    {
     "data": {
      "text/plain": [
       "['__doc__',\n",
       " '__loader__',\n",
       " '__name__',\n",
       " '__package__',\n",
       " '__spec__',\n",
       " 'acos',\n",
       " 'acosh',\n",
       " 'asin',\n",
       " 'asinh',\n",
       " 'atan',\n",
       " 'atan2',\n",
       " 'atanh',\n",
       " 'ceil',\n",
       " 'copysign',\n",
       " 'cos',\n",
       " 'cosh',\n",
       " 'degrees',\n",
       " 'e',\n",
       " 'erf',\n",
       " 'erfc',\n",
       " 'exp',\n",
       " 'expm1',\n",
       " 'fabs',\n",
       " 'factorial',\n",
       " 'floor',\n",
       " 'fmod',\n",
       " 'frexp',\n",
       " 'fsum',\n",
       " 'gamma',\n",
       " 'gcd',\n",
       " 'hypot',\n",
       " 'inf',\n",
       " 'isclose',\n",
       " 'isfinite',\n",
       " 'isinf',\n",
       " 'isnan',\n",
       " 'ldexp',\n",
       " 'lgamma',\n",
       " 'log',\n",
       " 'log10',\n",
       " 'log1p',\n",
       " 'log2',\n",
       " 'modf',\n",
       " 'nan',\n",
       " 'pi',\n",
       " 'pow',\n",
       " 'radians',\n",
       " 'sin',\n",
       " 'sinh',\n",
       " 'sqrt',\n",
       " 'tan',\n",
       " 'tanh',\n",
       " 'tau',\n",
       " 'trunc']"
      ]
     },
     "execution_count": 41,
     "metadata": {},
     "output_type": "execute_result"
    }
   ],
   "source": [
    "dir(math)"
   ]
  },
  {
   "cell_type": "code",
   "execution_count": 42,
   "metadata": {},
   "outputs": [
    {
     "name": "stdout",
     "output_type": "stream",
     "text": [
      "Object `cos()` not found.\n"
     ]
    }
   ],
   "source": [
    "?cos()"
   ]
  },
  {
   "cell_type": "code",
   "execution_count": 43,
   "metadata": {},
   "outputs": [
    {
     "name": "stdout",
     "output_type": "stream",
     "text": [
      "Object `cps` not found.\n"
     ]
    }
   ],
   "source": [
    "?cps"
   ]
  },
  {
   "cell_type": "code",
   "execution_count": 44,
   "metadata": {},
   "outputs": [
    {
     "name": "stdout",
     "output_type": "stream",
     "text": [
      "Object `cos` not found.\n"
     ]
    }
   ],
   "source": [
    "?cos"
   ]
  },
  {
   "cell_type": "code",
   "execution_count": 45,
   "metadata": {},
   "outputs": [
    {
     "name": "stdout",
     "output_type": "stream",
     "text": [
      "Object `cos` not found.\n"
     ]
    }
   ],
   "source": [
    "?cos"
   ]
  },
  {
   "cell_type": "code",
   "execution_count": 46,
   "metadata": {},
   "outputs": [],
   "source": [
    "import numpy as np"
   ]
  },
  {
   "cell_type": "code",
   "execution_count": 47,
   "metadata": {},
   "outputs": [
    {
     "ename": "NameError",
     "evalue": "name 'dis' is not defined",
     "output_type": "error",
     "traceback": [
      "\u001b[0;31m---------------------------------------------------------------------------\u001b[0m",
      "\u001b[0;31mNameError\u001b[0m                                 Traceback (most recent call last)",
      "\u001b[0;32m<ipython-input-47-491fa8eb4bb7>\u001b[0m in \u001b[0;36m<module>\u001b[0;34m\u001b[0m\n\u001b[0;32m----> 1\u001b[0;31m \u001b[0mdis\u001b[0m\u001b[0;34m(\u001b[0m\u001b[0mnp\u001b[0m\u001b[0;34m)\u001b[0m\u001b[0;34m\u001b[0m\u001b[0;34m\u001b[0m\u001b[0m\n\u001b[0m",
      "\u001b[0;31mNameError\u001b[0m: name 'dis' is not defined"
     ]
    }
   ],
   "source": [
    "dis(np)"
   ]
  },
  {
   "cell_type": "code",
   "execution_count": 48,
   "metadata": {},
   "outputs": [
    {
     "data": {
      "text/plain": [
       "['ALLOW_THREADS',\n",
       " 'AxisError',\n",
       " 'BUFSIZE',\n",
       " 'CLIP',\n",
       " 'ComplexWarning',\n",
       " 'DataSource',\n",
       " 'ERR_CALL',\n",
       " 'ERR_DEFAULT',\n",
       " 'ERR_IGNORE',\n",
       " 'ERR_LOG',\n",
       " 'ERR_PRINT',\n",
       " 'ERR_RAISE',\n",
       " 'ERR_WARN',\n",
       " 'FLOATING_POINT_SUPPORT',\n",
       " 'FPE_DIVIDEBYZERO',\n",
       " 'FPE_INVALID',\n",
       " 'FPE_OVERFLOW',\n",
       " 'FPE_UNDERFLOW',\n",
       " 'False_',\n",
       " 'Inf',\n",
       " 'Infinity',\n",
       " 'MAXDIMS',\n",
       " 'MAY_SHARE_BOUNDS',\n",
       " 'MAY_SHARE_EXACT',\n",
       " 'MachAr',\n",
       " 'ModuleDeprecationWarning',\n",
       " 'NAN',\n",
       " 'NINF',\n",
       " 'NZERO',\n",
       " 'NaN',\n",
       " 'PINF',\n",
       " 'PZERO',\n",
       " 'RAISE',\n",
       " 'RankWarning',\n",
       " 'SHIFT_DIVIDEBYZERO',\n",
       " 'SHIFT_INVALID',\n",
       " 'SHIFT_OVERFLOW',\n",
       " 'SHIFT_UNDERFLOW',\n",
       " 'ScalarType',\n",
       " 'Tester',\n",
       " 'TooHardError',\n",
       " 'True_',\n",
       " 'UFUNC_BUFSIZE_DEFAULT',\n",
       " 'UFUNC_PYVALS_NAME',\n",
       " 'VisibleDeprecationWarning',\n",
       " 'WRAP',\n",
       " '_NoValue',\n",
       " '_UFUNC_API',\n",
       " '__NUMPY_SETUP__',\n",
       " '__all__',\n",
       " '__builtins__',\n",
       " '__cached__',\n",
       " '__config__',\n",
       " '__doc__',\n",
       " '__file__',\n",
       " '__git_revision__',\n",
       " '__loader__',\n",
       " '__name__',\n",
       " '__package__',\n",
       " '__path__',\n",
       " '__spec__',\n",
       " '__version__',\n",
       " '_add_newdoc_ufunc',\n",
       " '_arg',\n",
       " '_distributor_init',\n",
       " '_globals',\n",
       " '_mat',\n",
       " '_pytesttester',\n",
       " 'abs',\n",
       " 'absolute',\n",
       " 'absolute_import',\n",
       " 'add',\n",
       " 'add_docstring',\n",
       " 'add_newdoc',\n",
       " 'add_newdoc_ufunc',\n",
       " 'alen',\n",
       " 'all',\n",
       " 'allclose',\n",
       " 'alltrue',\n",
       " 'amax',\n",
       " 'amin',\n",
       " 'angle',\n",
       " 'any',\n",
       " 'append',\n",
       " 'apply_along_axis',\n",
       " 'apply_over_axes',\n",
       " 'arange',\n",
       " 'arccos',\n",
       " 'arccosh',\n",
       " 'arcsin',\n",
       " 'arcsinh',\n",
       " 'arctan',\n",
       " 'arctan2',\n",
       " 'arctanh',\n",
       " 'argmax',\n",
       " 'argmin',\n",
       " 'argpartition',\n",
       " 'argsort',\n",
       " 'argwhere',\n",
       " 'around',\n",
       " 'array',\n",
       " 'array2string',\n",
       " 'array_equal',\n",
       " 'array_equiv',\n",
       " 'array_repr',\n",
       " 'array_split',\n",
       " 'array_str',\n",
       " 'asanyarray',\n",
       " 'asarray',\n",
       " 'asarray_chkfinite',\n",
       " 'ascontiguousarray',\n",
       " 'asfarray',\n",
       " 'asfortranarray',\n",
       " 'asmatrix',\n",
       " 'asscalar',\n",
       " 'atleast_1d',\n",
       " 'atleast_2d',\n",
       " 'atleast_3d',\n",
       " 'average',\n",
       " 'bartlett',\n",
       " 'base_repr',\n",
       " 'binary_repr',\n",
       " 'bincount',\n",
       " 'bitwise_and',\n",
       " 'bitwise_not',\n",
       " 'bitwise_or',\n",
       " 'bitwise_xor',\n",
       " 'blackman',\n",
       " 'block',\n",
       " 'bmat',\n",
       " 'bool',\n",
       " 'bool8',\n",
       " 'bool_',\n",
       " 'broadcast',\n",
       " 'broadcast_arrays',\n",
       " 'broadcast_to',\n",
       " 'busday_count',\n",
       " 'busday_offset',\n",
       " 'busdaycalendar',\n",
       " 'byte',\n",
       " 'byte_bounds',\n",
       " 'bytes0',\n",
       " 'bytes_',\n",
       " 'c_',\n",
       " 'can_cast',\n",
       " 'cast',\n",
       " 'cbrt',\n",
       " 'cdouble',\n",
       " 'ceil',\n",
       " 'cfloat',\n",
       " 'char',\n",
       " 'character',\n",
       " 'chararray',\n",
       " 'choose',\n",
       " 'clip',\n",
       " 'clongdouble',\n",
       " 'clongfloat',\n",
       " 'column_stack',\n",
       " 'common_type',\n",
       " 'compare_chararrays',\n",
       " 'compat',\n",
       " 'complex',\n",
       " 'complex128',\n",
       " 'complex256',\n",
       " 'complex64',\n",
       " 'complex_',\n",
       " 'complexfloating',\n",
       " 'compress',\n",
       " 'concatenate',\n",
       " 'conj',\n",
       " 'conjugate',\n",
       " 'convolve',\n",
       " 'copy',\n",
       " 'copysign',\n",
       " 'copyto',\n",
       " 'core',\n",
       " 'corrcoef',\n",
       " 'correlate',\n",
       " 'cos',\n",
       " 'cosh',\n",
       " 'count_nonzero',\n",
       " 'cov',\n",
       " 'cross',\n",
       " 'csingle',\n",
       " 'ctypeslib',\n",
       " 'cumprod',\n",
       " 'cumproduct',\n",
       " 'cumsum',\n",
       " 'datetime64',\n",
       " 'datetime_as_string',\n",
       " 'datetime_data',\n",
       " 'deg2rad',\n",
       " 'degrees',\n",
       " 'delete',\n",
       " 'deprecate',\n",
       " 'deprecate_with_doc',\n",
       " 'diag',\n",
       " 'diag_indices',\n",
       " 'diag_indices_from',\n",
       " 'diagflat',\n",
       " 'diagonal',\n",
       " 'diff',\n",
       " 'digitize',\n",
       " 'disp',\n",
       " 'divide',\n",
       " 'division',\n",
       " 'divmod',\n",
       " 'dot',\n",
       " 'double',\n",
       " 'dsplit',\n",
       " 'dstack',\n",
       " 'dtype',\n",
       " 'e',\n",
       " 'ediff1d',\n",
       " 'einsum',\n",
       " 'einsum_path',\n",
       " 'emath',\n",
       " 'empty',\n",
       " 'empty_like',\n",
       " 'equal',\n",
       " 'errstate',\n",
       " 'euler_gamma',\n",
       " 'exp',\n",
       " 'exp2',\n",
       " 'expand_dims',\n",
       " 'expm1',\n",
       " 'extract',\n",
       " 'eye',\n",
       " 'fabs',\n",
       " 'fastCopyAndTranspose',\n",
       " 'fft',\n",
       " 'fill_diagonal',\n",
       " 'find_common_type',\n",
       " 'finfo',\n",
       " 'fix',\n",
       " 'flatiter',\n",
       " 'flatnonzero',\n",
       " 'flexible',\n",
       " 'flip',\n",
       " 'fliplr',\n",
       " 'flipud',\n",
       " 'float',\n",
       " 'float128',\n",
       " 'float16',\n",
       " 'float32',\n",
       " 'float64',\n",
       " 'float_',\n",
       " 'float_power',\n",
       " 'floating',\n",
       " 'floor',\n",
       " 'floor_divide',\n",
       " 'fmax',\n",
       " 'fmin',\n",
       " 'fmod',\n",
       " 'format_float_positional',\n",
       " 'format_float_scientific',\n",
       " 'format_parser',\n",
       " 'frexp',\n",
       " 'frombuffer',\n",
       " 'fromfile',\n",
       " 'fromfunction',\n",
       " 'fromiter',\n",
       " 'frompyfunc',\n",
       " 'fromregex',\n",
       " 'fromstring',\n",
       " 'full',\n",
       " 'full_like',\n",
       " 'fv',\n",
       " 'gcd',\n",
       " 'generic',\n",
       " 'genfromtxt',\n",
       " 'geomspace',\n",
       " 'get_array_wrap',\n",
       " 'get_include',\n",
       " 'get_printoptions',\n",
       " 'getbufsize',\n",
       " 'geterr',\n",
       " 'geterrcall',\n",
       " 'geterrobj',\n",
       " 'gradient',\n",
       " 'greater',\n",
       " 'greater_equal',\n",
       " 'half',\n",
       " 'hamming',\n",
       " 'hanning',\n",
       " 'heaviside',\n",
       " 'histogram',\n",
       " 'histogram2d',\n",
       " 'histogram_bin_edges',\n",
       " 'histogramdd',\n",
       " 'hsplit',\n",
       " 'hstack',\n",
       " 'hypot',\n",
       " 'i0',\n",
       " 'identity',\n",
       " 'iinfo',\n",
       " 'imag',\n",
       " 'in1d',\n",
       " 'index_exp',\n",
       " 'indices',\n",
       " 'inexact',\n",
       " 'inf',\n",
       " 'info',\n",
       " 'infty',\n",
       " 'inner',\n",
       " 'insert',\n",
       " 'int',\n",
       " 'int0',\n",
       " 'int16',\n",
       " 'int32',\n",
       " 'int64',\n",
       " 'int8',\n",
       " 'int_',\n",
       " 'int_asbuffer',\n",
       " 'intc',\n",
       " 'integer',\n",
       " 'interp',\n",
       " 'intersect1d',\n",
       " 'intp',\n",
       " 'invert',\n",
       " 'ipmt',\n",
       " 'irr',\n",
       " 'is_busday',\n",
       " 'isclose',\n",
       " 'iscomplex',\n",
       " 'iscomplexobj',\n",
       " 'isfinite',\n",
       " 'isfortran',\n",
       " 'isin',\n",
       " 'isinf',\n",
       " 'isnan',\n",
       " 'isnat',\n",
       " 'isneginf',\n",
       " 'isposinf',\n",
       " 'isreal',\n",
       " 'isrealobj',\n",
       " 'isscalar',\n",
       " 'issctype',\n",
       " 'issubclass_',\n",
       " 'issubdtype',\n",
       " 'issubsctype',\n",
       " 'iterable',\n",
       " 'ix_',\n",
       " 'kaiser',\n",
       " 'kron',\n",
       " 'lcm',\n",
       " 'ldexp',\n",
       " 'left_shift',\n",
       " 'less',\n",
       " 'less_equal',\n",
       " 'lexsort',\n",
       " 'lib',\n",
       " 'linalg',\n",
       " 'linspace',\n",
       " 'little_endian',\n",
       " 'load',\n",
       " 'loads',\n",
       " 'loadtxt',\n",
       " 'log',\n",
       " 'log10',\n",
       " 'log1p',\n",
       " 'log2',\n",
       " 'logaddexp',\n",
       " 'logaddexp2',\n",
       " 'logical_and',\n",
       " 'logical_not',\n",
       " 'logical_or',\n",
       " 'logical_xor',\n",
       " 'logspace',\n",
       " 'long',\n",
       " 'longcomplex',\n",
       " 'longdouble',\n",
       " 'longfloat',\n",
       " 'longlong',\n",
       " 'lookfor',\n",
       " 'ma',\n",
       " 'mafromtxt',\n",
       " 'mask_indices',\n",
       " 'mat',\n",
       " 'math',\n",
       " 'matmul',\n",
       " 'matrix',\n",
       " 'matrixlib',\n",
       " 'max',\n",
       " 'maximum',\n",
       " 'maximum_sctype',\n",
       " 'may_share_memory',\n",
       " 'mean',\n",
       " 'median',\n",
       " 'memmap',\n",
       " 'meshgrid',\n",
       " 'mgrid',\n",
       " 'min',\n",
       " 'min_scalar_type',\n",
       " 'minimum',\n",
       " 'mintypecode',\n",
       " 'mirr',\n",
       " 'mod',\n",
       " 'modf',\n",
       " 'moveaxis',\n",
       " 'msort',\n",
       " 'multiply',\n",
       " 'nan',\n",
       " 'nan_to_num',\n",
       " 'nanargmax',\n",
       " 'nanargmin',\n",
       " 'nancumprod',\n",
       " 'nancumsum',\n",
       " 'nanmax',\n",
       " 'nanmean',\n",
       " 'nanmedian',\n",
       " 'nanmin',\n",
       " 'nanpercentile',\n",
       " 'nanprod',\n",
       " 'nanquantile',\n",
       " 'nanstd',\n",
       " 'nansum',\n",
       " 'nanvar',\n",
       " 'nbytes',\n",
       " 'ndarray',\n",
       " 'ndenumerate',\n",
       " 'ndfromtxt',\n",
       " 'ndim',\n",
       " 'ndindex',\n",
       " 'nditer',\n",
       " 'negative',\n",
       " 'nested_iters',\n",
       " 'newaxis',\n",
       " 'nextafter',\n",
       " 'nonzero',\n",
       " 'not_equal',\n",
       " 'nper',\n",
       " 'npv',\n",
       " 'numarray',\n",
       " 'number',\n",
       " 'obj2sctype',\n",
       " 'object',\n",
       " 'object0',\n",
       " 'object_',\n",
       " 'ogrid',\n",
       " 'oldnumeric',\n",
       " 'ones',\n",
       " 'ones_like',\n",
       " 'outer',\n",
       " 'packbits',\n",
       " 'pad',\n",
       " 'partition',\n",
       " 'percentile',\n",
       " 'pi',\n",
       " 'piecewise',\n",
       " 'place',\n",
       " 'pmt',\n",
       " 'poly',\n",
       " 'poly1d',\n",
       " 'polyadd',\n",
       " 'polyder',\n",
       " 'polydiv',\n",
       " 'polyfit',\n",
       " 'polyint',\n",
       " 'polymul',\n",
       " 'polynomial',\n",
       " 'polysub',\n",
       " 'polyval',\n",
       " 'positive',\n",
       " 'power',\n",
       " 'ppmt',\n",
       " 'print_function',\n",
       " 'printoptions',\n",
       " 'prod',\n",
       " 'product',\n",
       " 'promote_types',\n",
       " 'ptp',\n",
       " 'put',\n",
       " 'put_along_axis',\n",
       " 'putmask',\n",
       " 'pv',\n",
       " 'quantile',\n",
       " 'r_',\n",
       " 'rad2deg',\n",
       " 'radians',\n",
       " 'random',\n",
       " 'rank',\n",
       " 'rate',\n",
       " 'ravel',\n",
       " 'ravel_multi_index',\n",
       " 'real',\n",
       " 'real_if_close',\n",
       " 'rec',\n",
       " 'recarray',\n",
       " 'recfromcsv',\n",
       " 'recfromtxt',\n",
       " 'reciprocal',\n",
       " 'record',\n",
       " 'remainder',\n",
       " 'repeat',\n",
       " 'require',\n",
       " 'reshape',\n",
       " 'resize',\n",
       " 'result_type',\n",
       " 'right_shift',\n",
       " 'rint',\n",
       " 'roll',\n",
       " 'rollaxis',\n",
       " 'roots',\n",
       " 'rot90',\n",
       " 'round',\n",
       " 'round_',\n",
       " 'row_stack',\n",
       " 's_',\n",
       " 'safe_eval',\n",
       " 'save',\n",
       " 'savetxt',\n",
       " 'savez',\n",
       " 'savez_compressed',\n",
       " 'sctype2char',\n",
       " 'sctypeDict',\n",
       " 'sctypeNA',\n",
       " 'sctypes',\n",
       " 'searchsorted',\n",
       " 'select',\n",
       " 'set_numeric_ops',\n",
       " 'set_printoptions',\n",
       " 'set_string_function',\n",
       " 'setbufsize',\n",
       " 'setdiff1d',\n",
       " 'seterr',\n",
       " 'seterrcall',\n",
       " 'seterrobj',\n",
       " 'setxor1d',\n",
       " 'shape',\n",
       " 'shares_memory',\n",
       " 'short',\n",
       " 'show_config',\n",
       " 'sign',\n",
       " 'signbit',\n",
       " 'signedinteger',\n",
       " 'sin',\n",
       " 'sinc',\n",
       " 'single',\n",
       " 'singlecomplex',\n",
       " 'sinh',\n",
       " 'size',\n",
       " 'sometrue',\n",
       " 'sort',\n",
       " 'sort_complex',\n",
       " 'source',\n",
       " 'spacing',\n",
       " 'split',\n",
       " 'sqrt',\n",
       " 'square',\n",
       " 'squeeze',\n",
       " 'stack',\n",
       " 'std',\n",
       " 'str',\n",
       " 'str0',\n",
       " 'str_',\n",
       " 'string_',\n",
       " 'subtract',\n",
       " 'sum',\n",
       " 'swapaxes',\n",
       " 'sys',\n",
       " 'take',\n",
       " 'take_along_axis',\n",
       " 'tan',\n",
       " 'tanh',\n",
       " 'tensordot',\n",
       " 'test',\n",
       " 'testing',\n",
       " 'tile',\n",
       " 'timedelta64',\n",
       " 'trace',\n",
       " 'tracemalloc_domain',\n",
       " 'transpose',\n",
       " 'trapz',\n",
       " 'tri',\n",
       " 'tril',\n",
       " 'tril_indices',\n",
       " 'tril_indices_from',\n",
       " 'trim_zeros',\n",
       " 'triu',\n",
       " 'triu_indices',\n",
       " 'triu_indices_from',\n",
       " 'true_divide',\n",
       " 'trunc',\n",
       " 'typeDict',\n",
       " 'typeNA',\n",
       " 'typecodes',\n",
       " 'typename',\n",
       " 'ubyte',\n",
       " 'ufunc',\n",
       " 'uint',\n",
       " 'uint0',\n",
       " 'uint16',\n",
       " 'uint32',\n",
       " 'uint64',\n",
       " 'uint8',\n",
       " 'uintc',\n",
       " 'uintp',\n",
       " 'ulonglong',\n",
       " 'unicode',\n",
       " 'unicode_',\n",
       " 'union1d',\n",
       " 'unique',\n",
       " 'unpackbits',\n",
       " 'unravel_index',\n",
       " 'unsignedinteger',\n",
       " 'unwrap',\n",
       " 'ushort',\n",
       " 'vander',\n",
       " 'var',\n",
       " 'vdot',\n",
       " 'vectorize',\n",
       " 'version',\n",
       " 'void',\n",
       " 'void0',\n",
       " 'vsplit',\n",
       " 'vstack',\n",
       " 'warnings',\n",
       " 'where',\n",
       " 'who',\n",
       " 'zeros',\n",
       " 'zeros_like']"
      ]
     },
     "execution_count": 48,
     "metadata": {},
     "output_type": "execute_result"
    }
   ],
   "source": [
    "dir(np)"
   ]
  },
  {
   "cell_type": "code",
   "execution_count": 49,
   "metadata": {},
   "outputs": [
    {
     "ename": "NameError",
     "evalue": "name 'zeros' is not defined",
     "output_type": "error",
     "traceback": [
      "\u001b[0;31m---------------------------------------------------------------------------\u001b[0m",
      "\u001b[0;31mNameError\u001b[0m                                 Traceback (most recent call last)",
      "\u001b[0;32m<ipython-input-49-9bb30e5bb3dc>\u001b[0m in \u001b[0;36m<module>\u001b[0;34m\u001b[0m\n\u001b[0;32m----> 1\u001b[0;31m \u001b[0mhelp\u001b[0m\u001b[0;34m(\u001b[0m\u001b[0mzeros\u001b[0m\u001b[0;34m)\u001b[0m\u001b[0;34m\u001b[0m\u001b[0;34m\u001b[0m\u001b[0m\n\u001b[0m",
      "\u001b[0;31mNameError\u001b[0m: name 'zeros' is not defined"
     ]
    }
   ],
   "source": [
    "help(zeros)"
   ]
  },
  {
   "cell_type": "code",
   "execution_count": 50,
   "metadata": {},
   "outputs": [
    {
     "name": "stdout",
     "output_type": "stream",
     "text": [
      "Object `zeros` not found.\n"
     ]
    }
   ],
   "source": [
    "?zeros"
   ]
  },
  {
   "cell_type": "code",
   "execution_count": 51,
   "metadata": {},
   "outputs": [
    {
     "name": "stdout",
     "output_type": "stream",
     "text": [
      "Help on built-in function zeros in module numpy:\n",
      "\n",
      "zeros(...)\n",
      "    zeros(shape, dtype=float, order='C')\n",
      "    \n",
      "    Return a new array of given shape and type, filled with zeros.\n",
      "    \n",
      "    Parameters\n",
      "    ----------\n",
      "    shape : int or tuple of ints\n",
      "        Shape of the new array, e.g., ``(2, 3)`` or ``2``.\n",
      "    dtype : data-type, optional\n",
      "        The desired data-type for the array, e.g., `numpy.int8`.  Default is\n",
      "        `numpy.float64`.\n",
      "    order : {'C', 'F'}, optional, default: 'C'\n",
      "        Whether to store multi-dimensional data in row-major\n",
      "        (C-style) or column-major (Fortran-style) order in\n",
      "        memory.\n",
      "    \n",
      "    Returns\n",
      "    -------\n",
      "    out : ndarray\n",
      "        Array of zeros with the given shape, dtype, and order.\n",
      "    \n",
      "    See Also\n",
      "    --------\n",
      "    zeros_like : Return an array of zeros with shape and type of input.\n",
      "    empty : Return a new uninitialized array.\n",
      "    ones : Return a new array setting values to one.\n",
      "    full : Return a new array of given shape filled with value.\n",
      "    \n",
      "    Examples\n",
      "    --------\n",
      "    >>> np.zeros(5)\n",
      "    array([ 0.,  0.,  0.,  0.,  0.])\n",
      "    \n",
      "    >>> np.zeros((5,), dtype=int)\n",
      "    array([0, 0, 0, 0, 0])\n",
      "    \n",
      "    >>> np.zeros((2, 1))\n",
      "    array([[ 0.],\n",
      "           [ 0.]])\n",
      "    \n",
      "    >>> s = (2,2)\n",
      "    >>> np.zeros(s)\n",
      "    array([[ 0.,  0.],\n",
      "           [ 0.,  0.]])\n",
      "    \n",
      "    >>> np.zeros((2,), dtype=[('x', 'i4'), ('y', 'i4')]) # custom dtype\n",
      "    array([(0, 0), (0, 0)],\n",
      "          dtype=[('x', '<i4'), ('y', '<i4')])\n",
      "\n"
     ]
    }
   ],
   "source": [
    "help(np.zeros)"
   ]
  },
  {
   "cell_type": "code",
   "execution_count": 52,
   "metadata": {},
   "outputs": [],
   "source": [
    "xx=[1,2,3]"
   ]
  },
  {
   "cell_type": "code",
   "execution_count": 54,
   "metadata": {},
   "outputs": [],
   "source": [
    "yy={'a':1,'b':2}"
   ]
  },
  {
   "cell_type": "code",
   "execution_count": 57,
   "metadata": {},
   "outputs": [
    {
     "name": "stdout",
     "output_type": "stream",
     "text": [
      "Automatically created module for IPython interactive environment\n",
      "Classification report for classifier SVC(C=1.0, break_ties=False, cache_size=200, class_weight=None, coef0=0.0,\n",
      "    decision_function_shape='ovr', degree=3, gamma=0.001, kernel='rbf',\n",
      "    max_iter=-1, probability=False, random_state=None, shrinking=True,\n",
      "    tol=0.001, verbose=False):\n",
      "              precision    recall  f1-score   support\n",
      "\n",
      "           0       1.00      0.99      0.99        88\n",
      "           1       0.99      0.97      0.98        91\n",
      "           2       0.99      0.99      0.99        86\n",
      "           3       0.98      0.87      0.92        91\n",
      "           4       0.99      0.96      0.97        92\n",
      "           5       0.95      0.97      0.96        91\n",
      "           6       0.99      0.99      0.99        91\n",
      "           7       0.96      0.99      0.97        89\n",
      "           8       0.94      1.00      0.97        88\n",
      "           9       0.93      0.98      0.95        92\n",
      "\n",
      "    accuracy                           0.97       899\n",
      "   macro avg       0.97      0.97      0.97       899\n",
      "weighted avg       0.97      0.97      0.97       899\n",
      "\n",
      "\n",
      "Confusion matrix:\n",
      "[[87  0  0  0  1  0  0  0  0  0]\n",
      " [ 0 88  1  0  0  0  0  0  1  1]\n",
      " [ 0  0 85  1  0  0  0  0  0  0]\n",
      " [ 0  0  0 79  0  3  0  4  5  0]\n",
      " [ 0  0  0  0 88  0  0  0  0  4]\n",
      " [ 0  0  0  0  0 88  1  0  0  2]\n",
      " [ 0  1  0  0  0  0 90  0  0  0]\n",
      " [ 0  0  0  0  0  1  0 88  0  0]\n",
      " [ 0  0  0  0  0  0  0  0 88  0]\n",
      " [ 0  0  0  1  0  1  0  0  0 90]]\n"
     ]
    },
    {
     "data": {
      "image/png": "[encoded data removed]",
      "text/plain": [
       "<Figure size 432x288 with 8 Axes>"
      ]
     },
     "metadata": {
      "needs_background": "light"
     },
     "output_type": "display_data"
    },
    {
     "data": {
      "image/png": "[encoded data removed]",
      "text/plain": [
       "<Figure size 432x288 with 2 Axes>"
      ]
     },
     "metadata": {
      "needs_background": "light"
     },
     "output_type": "display_data"
    }
   ],
   "source": [
    "%matplotlib inline\n",
    "print(__doc__)\n",
    "\n",
    "# Author: Gael Varoquaux <gael dot varoquaux at normalesup dot org>\n",
    "# License: BSD 3 clause\n",
    "\n",
    "# Standard scientific Python imports\n",
    "import matplotlib.pyplot as plt\n",
    "\n",
    "# Import datasets, classifiers and performance metrics\n",
    "from sklearn import datasets, svm, metrics\n",
    "from sklearn.model_selection import train_test_split\n",
    "\n",
    "# The digits dataset\n",
    "digits = datasets.load_digits()\n",
    "\n",
    "# The data that we are interested in is made of 8x8 images of digits, let's\n",
    "# have a look at the first 4 images, stored in the `images` attribute of the\n",
    "# dataset.  If we were working from image files, we could load them using\n",
    "# matplotlib.pyplot.imread.  Note that each image must have the same size. For these\n",
    "# images, we know which digit they represent: it is given in the 'target' of\n",
    "# the dataset.\n",
    "_, axes = plt.subplots(2, 4)\n",
    "images_and_labels = list(zip(digits.images, digits.target))\n",
    "for ax, (image, label) in zip(axes[0, :], images_and_labels[:4]):\n",
    "    ax.set_axis_off()\n",
    "    ax.imshow(image, cmap=plt.cm.gray_r, interpolation='nearest')\n",
    "    ax.set_title('Training: %i' % label)\n",
    "\n",
    "# To apply a classifier on this data, we need to flatten the image, to\n",
    "# turn the data in a (samples, feature) matrix:\n",
    "n_samples = len(digits.images)\n",
    "data = digits.images.reshape((n_samples, -1))\n",
    "\n",
    "# Create a classifier: a support vector classifier\n",
    "classifier = svm.SVC(gamma=0.001)\n",
    "\n",
    "# Split data into train and test subsets\n",
    "X_train, X_test, y_train, y_test = train_test_split(\n",
    "    data, digits.target, test_size=0.5, shuffle=False)\n",
    "\n",
    "# We learn the digits on the first half of the digits\n",
    "classifier.fit(X_train, y_train)\n",
    "\n",
    "# Now predict the value of the digit on the second half:\n",
    "predicted = classifier.predict(X_test)\n",
    "\n",
    "images_and_predictions = list(zip(digits.images[n_samples // 2:], predicted))\n",
    "for ax, (image, prediction) in zip(axes[1, :], images_and_predictions[:4]):\n",
    "    ax.set_axis_off()\n",
    "    ax.imshow(image, cmap=plt.cm.gray_r, interpolation='nearest')\n",
    "    ax.set_title('Prediction: %i' % prediction)\n",
    "\n",
    "print(\"Classification report for classifier %s:\\n%s\\n\"\n",
    "      % (classifier, metrics.classification_report(y_test, predicted)))\n",
    "disp = metrics.plot_confusion_matrix(classifier, X_test, y_test)\n",
    "disp.figure_.suptitle(\"Confusion Matrix\")\n",
    "print(\"Confusion matrix:\\n%s\" % disp.confusion_matrix)\n",
    "\n",
    "plt.show()"
   ]
  },
  {
   "cell_type": "code",
   "execution_count": 58,
   "metadata": {},
   "outputs": [
    {
     "name": "stderr",
     "output_type": "stream",
     "text": [
      "/usr/local/lib/python3.6/dist-packages/sklearn/externals/joblib/__init__.py:15: FutureWarning: sklearn.externals.joblib is deprecated in 0.21 and will be removed in 0.23. Please import this functionality directly from joblib, which can be installed with: pip install joblib. If this warning is raised when loading pickled models, you may need to re-serialize those models with scikit-learn 0.21+.\n",
      "  warnings.warn(msg, category=FutureWarning)\n",
      "Using TensorFlow backend.\n",
      "WARNING: Logging before flag parsing goes to stderr.\n",
      "W0617 14:43:48.598470 140176168544064 deprecation.py:506] From /usr/local/lib/python3.6/dist-packages/tensorflow/python/ops/init_ops.py:1251: calling VarianceScaling.__init__ (from tensorflow.python.ops.init_ops) with dtype is deprecated and will be removed in a future version.\n",
      "Instructions for updating:\n",
      "Call initializer instance with the dtype argument instead of passing it to the constructor\n"
     ]
    },
    {
     "name": "stdout",
     "output_type": "stream",
     "text": [
      "Model: \"sequential\"\n",
      "_________________________________________________________________\n",
      "Layer (type)                 Output Shape              Param #   \n",
      "=================================================================\n",
      "dense (Dense)                (None, 64)                320       \n",
      "_________________________________________________________________\n",
      "dense_1 (Dense)              (None, 64)                4160      \n",
      "_________________________________________________________________\n",
      "dense_2 (Dense)              (None, 3)                 195       \n",
      "=================================================================\n",
      "Total params: 4,675\n",
      "Trainable params: 4,675\n",
      "Non-trainable params: 0\n",
      "_________________________________________________________________\n",
      "Train on 120 samples, validate on 30 samples\n",
      "Epoch 1/100\n",
      "120/120 [==============================] - 0s 2ms/sample - loss: 0.9022 - acc: 0.7083 - val_loss: 0.9319 - val_acc: 0.5667\n",
      "Epoch 2/100\n",
      "120/120 [==============================] - 0s 277us/sample - loss: 0.8670 - acc: 0.6917 - val_loss: 0.9225 - val_acc: 0.5667\n",
      "Epoch 3/100\n",
      "120/120 [==============================] - 0s 264us/sample - loss: 0.8411 - acc: 0.6917 - val_loss: 0.9016 - val_acc: 0.5667\n",
      "Epoch 4/100\n",
      "120/120 [==============================] - 0s 275us/sample - loss: 0.8170 - acc: 0.6917 - val_loss: 0.8740 - val_acc: 0.5667\n",
      "Epoch 5/100\n",
      "120/120 [==============================] - 0s 232us/sample - loss: 0.7936 - acc: 0.6917 - val_loss: 0.8435 - val_acc: 0.5667\n",
      "Epoch 6/100\n",
      "120/120 [==============================] - 0s 212us/sample - loss: 0.7721 - acc: 0.6917 - val_loss: 0.8133 - val_acc: 0.5667\n",
      "Epoch 7/100\n",
      "120/120 [==============================] - 0s 210us/sample - loss: 0.7521 - acc: 0.6917 - val_loss: 0.7860 - val_acc: 0.6000\n",
      "Epoch 8/100\n",
      "120/120 [==============================] - 0s 221us/sample - loss: 0.7331 - acc: 0.7000 - val_loss: 0.7631 - val_acc: 0.6000\n",
      "Epoch 9/100\n",
      "120/120 [==============================] - 0s 256us/sample - loss: 0.7145 - acc: 0.7083 - val_loss: 0.7444 - val_acc: 0.6000\n",
      "Epoch 10/100\n",
      "120/120 [==============================] - 0s 265us/sample - loss: 0.6961 - acc: 0.7083 - val_loss: 0.7292 - val_acc: 0.6000\n",
      "Epoch 11/100\n",
      "120/120 [==============================] - 0s 248us/sample - loss: 0.6779 - acc: 0.7083 - val_loss: 0.7163 - val_acc: 0.6000\n",
      "Epoch 12/100\n",
      "120/120 [==============================] - 0s 219us/sample - loss: 0.6603 - acc: 0.7083 - val_loss: 0.7042 - val_acc: 0.6000\n",
      "Epoch 13/100\n",
      "120/120 [==============================] - 0s 211us/sample - loss: 0.6435 - acc: 0.7083 - val_loss: 0.6914 - val_acc: 0.6000\n",
      "Epoch 14/100\n",
      "120/120 [==============================] - 0s 245us/sample - loss: 0.6275 - acc: 0.7000 - val_loss: 0.6770 - val_acc: 0.6000\n",
      "Epoch 15/100\n",
      "120/120 [==============================] - 0s 267us/sample - loss: 0.6120 - acc: 0.7083 - val_loss: 0.6606 - val_acc: 0.6000\n",
      "Epoch 16/100\n",
      "120/120 [==============================] - 0s 216us/sample - loss: 0.5969 - acc: 0.7083 - val_loss: 0.6428 - val_acc: 0.6000\n",
      "Epoch 17/100\n",
      "120/120 [==============================] - 0s 216us/sample - loss: 0.5823 - acc: 0.7250 - val_loss: 0.6248 - val_acc: 0.6000\n",
      "Epoch 18/100\n",
      "120/120 [==============================] - 0s 227us/sample - loss: 0.5684 - acc: 0.7417 - val_loss: 0.6075 - val_acc: 0.6333\n",
      "Epoch 19/100\n",
      "120/120 [==============================] - 0s 224us/sample - loss: 0.5549 - acc: 0.7833 - val_loss: 0.5922 - val_acc: 0.6667\n",
      "Epoch 20/100\n",
      "120/120 [==============================] - 0s 241us/sample - loss: 0.5420 - acc: 0.8083 - val_loss: 0.5787 - val_acc: 0.7000\n",
      "Epoch 21/100\n",
      "120/120 [==============================] - 0s 348us/sample - loss: 0.5295 - acc: 0.8250 - val_loss: 0.5670 - val_acc: 0.7000\n",
      "Epoch 22/100\n",
      "120/120 [==============================] - 0s 223us/sample - loss: 0.5175 - acc: 0.8333 - val_loss: 0.5566 - val_acc: 0.7000\n",
      "Epoch 23/100\n",
      "120/120 [==============================] - 0s 292us/sample - loss: 0.5059 - acc: 0.8333 - val_loss: 0.5471 - val_acc: 0.7000\n",
      "Epoch 24/100\n",
      "120/120 [==============================] - 0s 296us/sample - loss: 0.4950 - acc: 0.8333 - val_loss: 0.5377 - val_acc: 0.7333\n",
      "Epoch 25/100\n",
      "120/120 [==============================] - 0s 323us/sample - loss: 0.4845 - acc: 0.8333 - val_loss: 0.5281 - val_acc: 0.7333\n",
      "Epoch 26/100\n",
      "120/120 [==============================] - 0s 266us/sample - loss: 0.4744 - acc: 0.8500 - val_loss: 0.5180 - val_acc: 0.7333\n",
      "Epoch 27/100\n",
      "120/120 [==============================] - 0s 256us/sample - loss: 0.4647 - acc: 0.8667 - val_loss: 0.5075 - val_acc: 0.7333\n",
      "Epoch 28/100\n",
      "120/120 [==============================] - 0s 237us/sample - loss: 0.4554 - acc: 0.8833 - val_loss: 0.4971 - val_acc: 0.7333\n",
      "Epoch 29/100\n",
      "120/120 [==============================] - 0s 227us/sample - loss: 0.4465 - acc: 0.8917 - val_loss: 0.4872 - val_acc: 0.7333\n",
      "Epoch 30/100\n",
      "120/120 [==============================] - 0s 232us/sample - loss: 0.4379 - acc: 0.9000 - val_loss: 0.4780 - val_acc: 0.7667\n",
      "Epoch 31/100\n",
      "120/120 [==============================] - 0s 279us/sample - loss: 0.4296 - acc: 0.9167 - val_loss: 0.4697 - val_acc: 0.8000\n",
      "Epoch 32/100\n",
      "120/120 [==============================] - 0s 247us/sample - loss: 0.4216 - acc: 0.9167 - val_loss: 0.4622 - val_acc: 0.8000\n",
      "Epoch 33/100\n",
      "120/120 [==============================] - 0s 258us/sample - loss: 0.4137 - acc: 0.9333 - val_loss: 0.4554 - val_acc: 0.8000\n",
      "Epoch 34/100\n",
      "120/120 [==============================] - 0s 268us/sample - loss: 0.4061 - acc: 0.9333 - val_loss: 0.4489 - val_acc: 0.8000\n",
      "Epoch 35/100\n",
      "120/120 [==============================] - 0s 239us/sample - loss: 0.3987 - acc: 0.9333 - val_loss: 0.4424 - val_acc: 0.8000\n",
      "Epoch 36/100\n",
      "120/120 [==============================] - 0s 235us/sample - loss: 0.3915 - acc: 0.9333 - val_loss: 0.4357 - val_acc: 0.8000\n",
      "Epoch 37/100\n",
      "120/120 [==============================] - 0s 227us/sample - loss: 0.3846 - acc: 0.9417 - val_loss: 0.4287 - val_acc: 0.8333\n",
      "Epoch 38/100\n",
      "120/120 [==============================] - 0s 224us/sample - loss: 0.3779 - acc: 0.9500 - val_loss: 0.4218 - val_acc: 0.8667\n",
      "Epoch 39/100\n",
      "120/120 [==============================] - 0s 221us/sample - loss: 0.3713 - acc: 0.9500 - val_loss: 0.4150 - val_acc: 0.8667\n",
      "Epoch 40/100\n",
      "120/120 [==============================] - 0s 255us/sample - loss: 0.3649 - acc: 0.9500 - val_loss: 0.4087 - val_acc: 0.8667\n",
      "Epoch 41/100\n",
      "120/120 [==============================] - 0s 317us/sample - loss: 0.3586 - acc: 0.9500 - val_loss: 0.4031 - val_acc: 0.8667\n",
      "Epoch 42/100\n",
      "120/120 [==============================] - 0s 278us/sample - loss: 0.3524 - acc: 0.9500 - val_loss: 0.3979 - val_acc: 0.8667\n",
      "Epoch 43/100\n",
      "120/120 [==============================] - 0s 262us/sample - loss: 0.3464 - acc: 0.9500 - val_loss: 0.3929 - val_acc: 0.8667\n",
      "Epoch 44/100\n",
      "120/120 [==============================] - 0s 231us/sample - loss: 0.3404 - acc: 0.9500 - val_loss: 0.3878 - val_acc: 0.8667\n",
      "Epoch 45/100\n",
      "120/120 [==============================] - 0s 229us/sample - loss: 0.3346 - acc: 0.9583 - val_loss: 0.3823 - val_acc: 0.8667\n",
      "Epoch 46/100\n",
      "120/120 [==============================] - 0s 216us/sample - loss: 0.3288 - acc: 0.9583 - val_loss: 0.3765 - val_acc: 0.8667\n",
      "Epoch 47/100\n",
      "120/120 [==============================] - 0s 283us/sample - loss: 0.3231 - acc: 0.9583 - val_loss: 0.3706 - val_acc: 0.8667\n",
      "Epoch 48/100\n",
      "120/120 [==============================] - 0s 292us/sample - loss: 0.3175 - acc: 0.9667 - val_loss: 0.3649 - val_acc: 0.8667\n",
      "Epoch 49/100\n",
      "120/120 [==============================] - 0s 281us/sample - loss: 0.3120 - acc: 0.9667 - val_loss: 0.3597 - val_acc: 0.8667\n",
      "Epoch 50/100\n",
      "120/120 [==============================] - 0s 247us/sample - loss: 0.3065 - acc: 0.9667 - val_loss: 0.3549 - val_acc: 0.9000\n",
      "Epoch 51/100\n",
      "120/120 [==============================] - 0s 244us/sample - loss: 0.3012 - acc: 0.9667 - val_loss: 0.3504 - val_acc: 0.9000\n",
      "Epoch 52/100\n",
      "120/120 [==============================] - 0s 221us/sample - loss: 0.2959 - acc: 0.9667 - val_loss: 0.3459 - val_acc: 0.9000\n",
      "Epoch 53/100\n",
      "120/120 [==============================] - 0s 227us/sample - loss: 0.2906 - acc: 0.9667 - val_loss: 0.3412 - val_acc: 0.9333\n",
      "Epoch 54/100\n",
      "120/120 [==============================] - 0s 229us/sample - loss: 0.2854 - acc: 0.9667 - val_loss: 0.3363 - val_acc: 0.9333\n",
      "Epoch 55/100\n",
      "120/120 [==============================] - 0s 226us/sample - loss: 0.2803 - acc: 0.9667 - val_loss: 0.3312 - val_acc: 0.9333\n",
      "Epoch 56/100\n",
      "120/120 [==============================] - 0s 221us/sample - loss: 0.2753 - acc: 0.9667 - val_loss: 0.3261 - val_acc: 0.9333\n",
      "Epoch 57/100\n",
      "120/120 [==============================] - 0s 245us/sample - loss: 0.2703 - acc: 0.9667 - val_loss: 0.3212 - val_acc: 0.9333\n",
      "Epoch 58/100\n",
      "120/120 [==============================] - 0s 218us/sample - loss: 0.2655 - acc: 0.9667 - val_loss: 0.3167 - val_acc: 0.9333\n",
      "Epoch 59/100\n",
      "120/120 [==============================] - 0s 211us/sample - loss: 0.2606 - acc: 0.9667 - val_loss: 0.3125 - val_acc: 0.9333\n",
      "Epoch 60/100\n",
      "120/120 [==============================] - 0s 228us/sample - loss: 0.2559 - acc: 0.9667 - val_loss: 0.3084 - val_acc: 0.9333\n",
      "Epoch 61/100\n",
      "120/120 [==============================] - 0s 215us/sample - loss: 0.2512 - acc: 0.9667 - val_loss: 0.3042 - val_acc: 0.9333\n",
      "Epoch 62/100\n",
      "120/120 [==============================] - 0s 222us/sample - loss: 0.2467 - acc: 0.9667 - val_loss: 0.2998 - val_acc: 0.9333\n",
      "Epoch 63/100\n",
      "120/120 [==============================] - 0s 235us/sample - loss: 0.2421 - acc: 0.9750 - val_loss: 0.2952 - val_acc: 0.9333\n",
      "Epoch 64/100\n",
      "120/120 [==============================] - 0s 228us/sample - loss: 0.2377 - acc: 0.9750 - val_loss: 0.2905 - val_acc: 0.9667\n",
      "Epoch 65/100\n",
      "120/120 [==============================] - 0s 210us/sample - loss: 0.2333 - acc: 0.9750 - val_loss: 0.2858 - val_acc: 0.9667\n",
      "Epoch 66/100\n",
      "120/120 [==============================] - 0s 212us/sample - loss: 0.2289 - acc: 0.9750 - val_loss: 0.2811 - val_acc: 0.9667\n",
      "Epoch 67/100\n",
      "120/120 [==============================] - 0s 234us/sample - loss: 0.2244 - acc: 0.9750 - val_loss: 0.2768 - val_acc: 0.9667\n",
      "Epoch 68/100\n",
      "120/120 [==============================] - 0s 229us/sample - loss: 0.2201 - acc: 0.9750 - val_loss: 0.2731 - val_acc: 0.9667\n",
      "Epoch 69/100\n",
      "120/120 [==============================] - 0s 238us/sample - loss: 0.2161 - acc: 0.9750 - val_loss: 0.2693 - val_acc: 0.9667\n",
      "Epoch 70/100\n",
      "120/120 [==============================] - 0s 243us/sample - loss: 0.2123 - acc: 0.9750 - val_loss: 0.2652 - val_acc: 0.9667\n",
      "Epoch 71/100\n",
      "120/120 [==============================] - 0s 227us/sample - loss: 0.2086 - acc: 0.9750 - val_loss: 0.2611 - val_acc: 0.9667\n",
      "Epoch 72/100\n",
      "120/120 [==============================] - 0s 221us/sample - loss: 0.2050 - acc: 0.9750 - val_loss: 0.2571 - val_acc: 0.9667\n",
      "Epoch 73/100\n",
      "120/120 [==============================] - 0s 221us/sample - loss: 0.2015 - acc: 0.9750 - val_loss: 0.2535 - val_acc: 0.9667\n",
      "Epoch 74/100\n",
      "120/120 [==============================] - 0s 329us/sample - loss: 0.1980 - acc: 0.9750 - val_loss: 0.2501 - val_acc: 0.9667\n",
      "Epoch 75/100\n",
      "120/120 [==============================] - 0s 257us/sample - loss: 0.1945 - acc: 0.9750 - val_loss: 0.2467 - val_acc: 0.9667\n",
      "Epoch 76/100\n",
      "120/120 [==============================] - 0s 245us/sample - loss: 0.1912 - acc: 0.9750 - val_loss: 0.2434 - val_acc: 0.9667\n",
      "Epoch 77/100\n",
      "120/120 [==============================] - 0s 219us/sample - loss: 0.1879 - acc: 0.9750 - val_loss: 0.2399 - val_acc: 0.9667\n",
      "Epoch 78/100\n",
      "120/120 [==============================] - 0s 226us/sample - loss: 0.1846 - acc: 0.9750 - val_loss: 0.2363 - val_acc: 0.9667\n",
      "Epoch 79/100\n",
      "120/120 [==============================] - 0s 224us/sample - loss: 0.1815 - acc: 0.9750 - val_loss: 0.2327 - val_acc: 0.9667\n",
      "Epoch 80/100\n",
      "120/120 [==============================] - 0s 263us/sample - loss: 0.1784 - acc: 0.9750 - val_loss: 0.2293 - val_acc: 0.9667\n",
      "Epoch 81/100\n",
      "120/120 [==============================] - 0s 216us/sample - loss: 0.1754 - acc: 0.9750 - val_loss: 0.2260 - val_acc: 0.9667\n",
      "Epoch 82/100\n",
      "120/120 [==============================] - 0s 211us/sample - loss: 0.1724 - acc: 0.9750 - val_loss: 0.2229 - val_acc: 0.9667\n",
      "Epoch 83/100\n",
      "120/120 [==============================] - 0s 233us/sample - loss: 0.1695 - acc: 0.9750 - val_loss: 0.2197 - val_acc: 0.9667\n",
      "Epoch 84/100\n",
      "120/120 [==============================] - 0s 208us/sample - loss: 0.1667 - acc: 0.9750 - val_loss: 0.2166 - val_acc: 0.9667\n",
      "Epoch 85/100\n",
      "120/120 [==============================] - 0s 211us/sample - loss: 0.1640 - acc: 0.9750 - val_loss: 0.2134 - val_acc: 0.9667\n",
      "Epoch 86/100\n",
      "120/120 [==============================] - 0s 260us/sample - loss: 0.1613 - acc: 0.9750 - val_loss: 0.2103 - val_acc: 0.9667\n",
      "Epoch 87/100\n",
      "120/120 [==============================] - 0s 209us/sample - loss: 0.1588 - acc: 0.9750 - val_loss: 0.2073 - val_acc: 0.9667\n",
      "Epoch 88/100\n",
      "120/120 [==============================] - 0s 212us/sample - loss: 0.1563 - acc: 0.9750 - val_loss: 0.2045 - val_acc: 0.9667\n",
      "Epoch 89/100\n",
      "120/120 [==============================] - 0s 209us/sample - loss: 0.1538 - acc: 0.9750 - val_loss: 0.2019 - val_acc: 0.9667\n",
      "Epoch 90/100\n",
      "120/120 [==============================] - 0s 248us/sample - loss: 0.1515 - acc: 0.9750 - val_loss: 0.1991 - val_acc: 0.9667\n",
      "Epoch 91/100\n",
      "120/120 [==============================] - 0s 303us/sample - loss: 0.1492 - acc: 0.9750 - val_loss: 0.1963 - val_acc: 0.9667\n",
      "Epoch 92/100\n",
      "120/120 [==============================] - 0s 305us/sample - loss: 0.1470 - acc: 0.9750 - val_loss: 0.1934 - val_acc: 0.9667\n",
      "Epoch 93/100\n",
      "120/120 [==============================] - 0s 305us/sample - loss: 0.1449 - acc: 0.9750 - val_loss: 0.1906 - val_acc: 0.9667\n",
      "Epoch 94/100\n",
      "120/120 [==============================] - 0s 280us/sample - loss: 0.1428 - acc: 0.9750 - val_loss: 0.1880 - val_acc: 0.9667\n",
      "Epoch 95/100\n",
      "120/120 [==============================] - 0s 279us/sample - loss: 0.1408 - acc: 0.9750 - val_loss: 0.1857 - val_acc: 0.9667\n",
      "Epoch 96/100\n",
      "120/120 [==============================] - 0s 258us/sample - loss: 0.1388 - acc: 0.9750 - val_loss: 0.1834 - val_acc: 0.9667\n",
      "Epoch 97/100\n",
      "120/120 [==============================] - 0s 272us/sample - loss: 0.1368 - acc: 0.9750 - val_loss: 0.1809 - val_acc: 0.9667\n",
      "Epoch 98/100\n",
      "120/120 [==============================] - 0s 229us/sample - loss: 0.1350 - acc: 0.9750 - val_loss: 0.1785 - val_acc: 0.9667\n",
      "Epoch 99/100\n",
      "120/120 [==============================] - 0s 230us/sample - loss: 0.1331 - acc: 0.9750 - val_loss: 0.1760 - val_acc: 0.9667\n",
      "Epoch 100/100\n",
      "120/120 [==============================] - 0s 225us/sample - loss: 0.1314 - acc: 0.9750 - val_loss: 0.1737 - val_acc: 0.9667\n",
      "30/30 [==============================] - 0s 563us/sample\n"
     ]
    },
    {
     "data": {
      "image/png": "[encoded data removed]",
      "text/plain": [
       "<Figure size 1200x900 with 2 Axes>"
      ]
     },
     "metadata": {
      "needs_background": "light"
     },
     "output_type": "display_data"
    },
    {
     "data": {
      "image/png": "[encoded data removed]",
      "text/plain": [
       "<Figure size 1200x900 with 1 Axes>"
      ]
     },
     "metadata": {
      "needs_background": "light"
     },
     "output_type": "display_data"
    }
   ],
   "source": [
    "from __future__ import print_function\n",
    "import numpy as np\n",
    "import pandas as pd\n",
    "from tensorflow.python import keras\n",
    "from tensorflow.python.keras import backend as K\n",
    "from tensorflow.python.keras.models import Sequential\n",
    "from tensorflow.python.keras.layers import Dense, Dropout, Flatten\n",
    "from tensorflow.python.keras.layers import Conv2D, MaxPooling2D\n",
    "\n",
    "from sklearn.datasets import load_iris\n",
    "from sklearn.preprocessing import LabelEncoder\n",
    "from sklearn.model_selection import train_test_split\n",
    "\n",
    "\n",
    "\"\"\"\n",
    "SACP AI 포탈과 연계를 위한 기본 객체 생성\n",
    "\"\"\"\n",
    "from aicentro.session import Session\n",
    "session = Session(verify=False)\n",
    "\n",
    "\"\"\"\n",
    "학습 모델 개발 시 프레임워크별 객체 사용\n",
    "\"\"\"\n",
    "from aicentro.framework.keras import Keras as Frm\n",
    "framework = Frm(session=session)\n",
    "\n",
    "\n",
    "\"\"\"\n",
    "모델 코드 작성\n",
    "\"\"\"\n",
    "\n",
    "batch_size = 128\n",
    "num_classes = 3\n",
    "epochs = 100\n",
    "\n",
    "data = load_iris()\n",
    "\n",
    "X = data.data\n",
    "y = data.target\n",
    "encoder = LabelEncoder()\n",
    "y1 = encoder.fit_transform(y)\n",
    "Y = pd.get_dummies(y1).values\n",
    "\n",
    "\n",
    "X_train, X_test, y_train, y_test = train_test_split(X, Y,\n",
    "                                                    test_size=0.2,\n",
    "                                                    random_state=1)\n",
    "\n",
    "model = Sequential()\n",
    "model.add(Dense(64,input_shape=(4,),activation='relu'))\n",
    "model.add(Dense(64,activation='relu'))\n",
    "model.add(Dense(3,activation='softmax'))\n",
    "\n",
    "model.compile(loss='categorical_crossentropy',\n",
    "              optimizer='Adam',\n",
    "              metrics=['accuracy'])\n",
    "\n",
    "model.summary()\n",
    "\"\"\"\n",
    "모델 학습 시 Accuracy 와 Loss 값을 SACP AI 포탈로 전송하여 UI 상에 노출\n",
    "제공된 Metric Callback 사용 \n",
    "\"\"\"\n",
    "history = framework.get_metric_callback()\n",
    "\n",
    "model.fit(X_train, y_train,\n",
    "          batch_size=batch_size,\n",
    "          epochs=epochs,\n",
    "          verbose=1,\n",
    "          validation_data=(X_test, y_test),\n",
    "          callbacks=[history])\n",
    "\n",
    "y_test_pred = model.predict(X_test, batch_size=128, verbose=1)\n",
    "y_label = data.target_names.tolist()\n",
    "\n",
    "y_test_c = np.argmax(y_test, axis=1).reshape(-1, 1)\n",
    "y_test_pred_c = np.argmax(y_test_pred, axis=1).reshape(-1, 1)\n",
    "\n",
    "\"\"\"\n",
    "모델 학습 후 결과를 저장하고 해당 결과를 UI 상에 노출\n",
    "\"\"\"\n",
    "framework.plot_confusion_matrix(y_test_c, y_test_pred_c, target_names=y_label, title='Confusion Matrix')\n",
    "framework.classification_report(y_test_c, y_test_pred_c, target_names=y_label)\n",
    "framework.plot_roc_curve(y_test, y_test_pred, len(y_label), y_label)\n",
    "\n",
    "\n",
    "'''\n",
    "학습된 모델 저장\n",
    "'''\n",
    "framework.save_model(model, model_name='iris-classification')\n"
   ]
  },
  {
   "cell_type": "code",
   "execution_count": null,
   "metadata": {},
   "outputs": [],
   "source": [
    "from __future__ import print_function\n",
    "import numpy as np\n",
    "import pandas as pd\n",
    "from tensorflow.python import keras\n",
    "from tensorflow.python.keras import backend as K\n",
    "from tensorflow.python.keras.models import Sequential\n",
    "from tensorflow.python.keras.layers import Dense, Dropout, Flatten\n",
    "from tensorflow.python.keras.layers import Conv2D, MaxPooling2D\n",
    "\n",
    "from sklearn.datasets import load_iris\n",
    "from sklearn.preprocessing import LabelEncoder\n",
    "from sklearn.model_selection import train_test_split"
   ]
  },
  {
   "cell_type": "code",
   "execution_count": null,
   "metadata": {},
   "outputs": [],
   "source": [
    "\"\"\"\n",
    "SACP AI 포탈과 연계를 위한 기본 객체 생성\n",
    "\"\"\"\n",
    "from aicentro.session import Session\n",
    "session = Session(verify=False)"
   ]
  },
  {
   "cell_type": "code",
   "execution_count": null,
   "metadata": {},
   "outputs": [],
   "source": [
    "\"\"\"\n",
    "학습 모델 개발 시 프레임워크별 객체 사용\n",
    "\"\"\"\n",
    "from aicentro.framework.keras import Keras as Frm\n",
    "framework = Frm(session=session)"
   ]
  },
  {
   "cell_type": "code",
   "execution_count": null,
   "metadata": {},
   "outputs": [],
   "source": [
    "\"\"\"\n",
    "\n",
    "batch_size = 128\n",
    "num_classes = 3\n",
    "epochs = 100\n",
    "\n",
    "data = load_iris()\n",
    "\n",
    "X = data.data\n",
    "y = data.target\n",
    "encoder = LabelEncoder()\n",
    "y1 = encoder.fit_transform(y)\n",
    "Y = pd.get_dummies(y1).values\n",
    "\n",
    "\n",
    "X_train, X_test, y_train, y_test = train_test_split(X, Y,\n",
    "                                                    test_size=0.2,\n",
    "                                                    random_state=1)\n",
    "\n",
    "model = Sequential()\n",
    "model.add(Dense(64,input_shape=(4,),activation='relu'))\n",
    "model.add(Dense(64,activation='relu'))\n",
    "model.add(Dense(3,activation='softmax'))\n",
    "\n",
    "model.compile(loss='categorical_crossentropy',\n",
    "              optimizer='Adam',\n",
    "              metrics=['accuracy'])\n",
    "\n",
    "model.summary()"
   ]
  },
  {
   "cell_type": "markdown",
   "metadata": {},
   "source": [
    "\"\"\""
   ]
  },
  {
   "cell_type": "markdown",
   "metadata": {},
   "source": []
  },
  {
   "cell_type": "markdown",
   "metadata": {},
   "source": [
    "제공된 Metric Callback 사용 \n",
    "\"\"\""
   ]
  },
  {
   "cell_type": "code",
   "execution_count": 59,
   "metadata": {},
   "outputs": [
    {
     "name": "stdout",
     "output_type": "stream",
     "text": [
      "Train on 120 samples, validate on 30 samples\n",
      "Epoch 1/100\n",
      "120/120 [==============================] - 0s 385us/sample - loss: 0.1297 - acc: 0.9750 - val_loss: 0.1714 - val_acc: 0.9667\n",
      "Epoch 2/100\n",
      "120/120 [==============================] - 0s 332us/sample - loss: 0.1280 - acc: 0.9750 - val_loss: 0.1693 - val_acc: 0.9667\n",
      "Epoch 3/100\n",
      "120/120 [==============================] - 0s 277us/sample - loss: 0.1264 - acc: 0.9750 - val_loss: 0.1673 - val_acc: 0.9667\n",
      "Epoch 4/100\n",
      "120/120 [==============================] - 0s 239us/sample - loss: 0.1249 - acc: 0.9750 - val_loss: 0.1653 - val_acc: 0.9667\n",
      "Epoch 5/100\n",
      "120/120 [==============================] - 0s 245us/sample - loss: 0.1234 - acc: 0.9750 - val_loss: 0.1632 - val_acc: 0.9667\n",
      "Epoch 6/100\n",
      "120/120 [==============================] - 0s 210us/sample - loss: 0.1219 - acc: 0.9750 - val_loss: 0.1611 - val_acc: 0.9667\n",
      "Epoch 7/100\n",
      "120/120 [==============================] - 0s 215us/sample - loss: 0.1205 - acc: 0.9750 - val_loss: 0.1590 - val_acc: 0.9667\n",
      "Epoch 8/100\n",
      "120/120 [==============================] - 0s 231us/sample - loss: 0.1191 - acc: 0.9750 - val_loss: 0.1571 - val_acc: 0.9667\n",
      "Epoch 9/100\n",
      "120/120 [==============================] - 0s 240us/sample - loss: 0.1178 - acc: 0.9750 - val_loss: 0.1554 - val_acc: 0.9667\n",
      "Epoch 10/100\n",
      "120/120 [==============================] - 0s 220us/sample - loss: 0.1165 - acc: 0.9750 - val_loss: 0.1537 - val_acc: 0.9667\n",
      "Epoch 11/100\n",
      "120/120 [==============================] - 0s 233us/sample - loss: 0.1152 - acc: 0.9750 - val_loss: 0.1519 - val_acc: 0.9667\n",
      "Epoch 12/100\n",
      "120/120 [==============================] - 0s 239us/sample - loss: 0.1140 - acc: 0.9750 - val_loss: 0.1500 - val_acc: 0.9667\n",
      "Epoch 13/100\n",
      "120/120 [==============================] - 0s 239us/sample - loss: 0.1128 - acc: 0.9750 - val_loss: 0.1481 - val_acc: 0.9667\n",
      "Epoch 14/100\n",
      "120/120 [==============================] - 0s 223us/sample - loss: 0.1116 - acc: 0.9750 - val_loss: 0.1464 - val_acc: 0.9667\n",
      "Epoch 15/100\n",
      "120/120 [==============================] - 0s 239us/sample - loss: 0.1105 - acc: 0.9750 - val_loss: 0.1449 - val_acc: 0.9667\n",
      "Epoch 16/100\n",
      "120/120 [==============================] - 0s 234us/sample - loss: 0.1094 - acc: 0.9750 - val_loss: 0.1435 - val_acc: 0.9667\n",
      "Epoch 17/100\n",
      "120/120 [==============================] - 0s 228us/sample - loss: 0.1084 - acc: 0.9750 - val_loss: 0.1420 - val_acc: 0.9667\n",
      "Epoch 18/100\n",
      "120/120 [==============================] - 0s 242us/sample - loss: 0.1073 - acc: 0.9750 - val_loss: 0.1403 - val_acc: 0.9667\n",
      "Epoch 19/100\n",
      "120/120 [==============================] - 0s 222us/sample - loss: 0.1063 - acc: 0.9750 - val_loss: 0.1387 - val_acc: 0.9667\n",
      "Epoch 20/100\n",
      "120/120 [==============================] - 0s 215us/sample - loss: 0.1054 - acc: 0.9750 - val_loss: 0.1371 - val_acc: 0.9667\n",
      "Epoch 21/100\n",
      "120/120 [==============================] - 0s 208us/sample - loss: 0.1044 - acc: 0.9750 - val_loss: 0.1357 - val_acc: 0.9667\n",
      "Epoch 22/100\n",
      "120/120 [==============================] - 0s 245us/sample - loss: 0.1035 - acc: 0.9750 - val_loss: 0.1344 - val_acc: 0.9667\n",
      "Epoch 23/100\n",
      "120/120 [==============================] - 0s 205us/sample - loss: 0.1026 - acc: 0.9750 - val_loss: 0.1331 - val_acc: 0.9667\n",
      "Epoch 24/100\n",
      "120/120 [==============================] - 0s 208us/sample - loss: 0.1017 - acc: 0.9750 - val_loss: 0.1316 - val_acc: 0.9667\n",
      "Epoch 25/100\n",
      "120/120 [==============================] - 0s 244us/sample - loss: 0.1009 - acc: 0.9750 - val_loss: 0.1302 - val_acc: 0.9667\n",
      "Epoch 26/100\n",
      "120/120 [==============================] - 0s 220us/sample - loss: 0.1001 - acc: 0.9750 - val_loss: 0.1288 - val_acc: 0.9667\n",
      "Epoch 27/100\n",
      "120/120 [==============================] - 0s 232us/sample - loss: 0.0993 - acc: 0.9750 - val_loss: 0.1275 - val_acc: 0.9667\n",
      "Epoch 28/100\n",
      "120/120 [==============================] - 0s 275us/sample - loss: 0.0985 - acc: 0.9750 - val_loss: 0.1263 - val_acc: 0.9667\n",
      "Epoch 29/100\n",
      "120/120 [==============================] - 0s 309us/sample - loss: 0.0978 - acc: 0.9750 - val_loss: 0.1251 - val_acc: 0.9667\n",
      "Epoch 30/100\n",
      "120/120 [==============================] - 0s 271us/sample - loss: 0.0971 - acc: 0.9750 - val_loss: 0.1239 - val_acc: 0.9667\n",
      "Epoch 31/100\n",
      "120/120 [==============================] - 0s 266us/sample - loss: 0.0963 - acc: 0.9750 - val_loss: 0.1226 - val_acc: 0.9667\n",
      "Epoch 32/100\n",
      "120/120 [==============================] - 0s 221us/sample - loss: 0.0957 - acc: 0.9750 - val_loss: 0.1213 - val_acc: 0.9667\n",
      "Epoch 33/100\n",
      "120/120 [==============================] - 0s 216us/sample - loss: 0.0950 - acc: 0.9750 - val_loss: 0.1201 - val_acc: 0.9667\n",
      "Epoch 34/100\n",
      "120/120 [==============================] - 0s 230us/sample - loss: 0.0944 - acc: 0.9750 - val_loss: 0.1191 - val_acc: 0.9667\n",
      "Epoch 35/100\n",
      "120/120 [==============================] - 0s 226us/sample - loss: 0.0937 - acc: 0.9750 - val_loss: 0.1180 - val_acc: 1.0000\n",
      "Epoch 36/100\n",
      "120/120 [==============================] - 0s 225us/sample - loss: 0.0931 - acc: 0.9750 - val_loss: 0.1169 - val_acc: 1.0000\n",
      "Epoch 37/100\n",
      "120/120 [==============================] - 0s 343us/sample - loss: 0.0925 - acc: 0.9750 - val_loss: 0.1158 - val_acc: 1.0000\n",
      "Epoch 38/100\n",
      "120/120 [==============================] - 0s 337us/sample - loss: 0.0919 - acc: 0.9750 - val_loss: 0.1147 - val_acc: 1.0000\n",
      "Epoch 39/100\n",
      "120/120 [==============================] - 0s 388us/sample - loss: 0.0914 - acc: 0.9750 - val_loss: 0.1136 - val_acc: 1.0000\n",
      "Epoch 40/100\n",
      "120/120 [==============================] - 0s 293us/sample - loss: 0.0908 - acc: 0.9750 - val_loss: 0.1126 - val_acc: 1.0000\n",
      "Epoch 41/100\n",
      "120/120 [==============================] - 0s 254us/sample - loss: 0.0903 - acc: 0.9750 - val_loss: 0.1116 - val_acc: 1.0000\n",
      "Epoch 42/100\n",
      "120/120 [==============================] - 0s 223us/sample - loss: 0.0897 - acc: 0.9750 - val_loss: 0.1107 - val_acc: 1.0000\n",
      "Epoch 43/100\n",
      "120/120 [==============================] - 0s 258us/sample - loss: 0.0892 - acc: 0.9750 - val_loss: 0.1097 - val_acc: 1.0000\n",
      "Epoch 44/100\n",
      "120/120 [==============================] - 0s 279us/sample - loss: 0.0887 - acc: 0.9750 - val_loss: 0.1087 - val_acc: 1.0000\n",
      "Epoch 45/100\n",
      "120/120 [==============================] - 0s 214us/sample - loss: 0.0882 - acc: 0.9750 - val_loss: 0.1077 - val_acc: 1.0000\n",
      "Epoch 46/100\n",
      "120/120 [==============================] - 0s 235us/sample - loss: 0.0878 - acc: 0.9750 - val_loss: 0.1068 - val_acc: 1.0000\n",
      "Epoch 47/100\n",
      "120/120 [==============================] - 0s 217us/sample - loss: 0.0873 - acc: 0.9750 - val_loss: 0.1059 - val_acc: 1.0000\n",
      "Epoch 48/100\n",
      "120/120 [==============================] - 0s 221us/sample - loss: 0.0869 - acc: 0.9750 - val_loss: 0.1050 - val_acc: 1.0000\n",
      "Epoch 49/100\n",
      "120/120 [==============================] - 0s 208us/sample - loss: 0.0864 - acc: 0.9750 - val_loss: 0.1042 - val_acc: 1.0000\n",
      "Epoch 50/100\n",
      "120/120 [==============================] - 0s 325us/sample - loss: 0.0860 - acc: 0.9750 - val_loss: 0.1033 - val_acc: 1.0000\n",
      "Epoch 51/100\n",
      "120/120 [==============================] - 0s 300us/sample - loss: 0.0856 - acc: 0.9750 - val_loss: 0.1024 - val_acc: 1.0000\n",
      "Epoch 52/100\n",
      "120/120 [==============================] - 0s 261us/sample - loss: 0.0852 - acc: 0.9750 - val_loss: 0.1015 - val_acc: 1.0000\n",
      "Epoch 53/100\n",
      "120/120 [==============================] - 0s 263us/sample - loss: 0.0848 - acc: 0.9750 - val_loss: 0.1007 - val_acc: 1.0000\n",
      "Epoch 54/100\n",
      "120/120 [==============================] - 0s 267us/sample - loss: 0.0844 - acc: 0.9750 - val_loss: 0.0999 - val_acc: 1.0000\n",
      "Epoch 55/100\n",
      "120/120 [==============================] - 0s 260us/sample - loss: 0.0840 - acc: 0.9750 - val_loss: 0.0991 - val_acc: 1.0000\n",
      "Epoch 56/100\n",
      "120/120 [==============================] - 0s 251us/sample - loss: 0.0836 - acc: 0.9750 - val_loss: 0.0983 - val_acc: 1.0000\n",
      "Epoch 57/100\n",
      "120/120 [==============================] - 0s 252us/sample - loss: 0.0832 - acc: 0.9750 - val_loss: 0.0975 - val_acc: 1.0000\n",
      "Epoch 58/100\n",
      "120/120 [==============================] - 0s 260us/sample - loss: 0.0829 - acc: 0.9750 - val_loss: 0.0967 - val_acc: 1.0000\n",
      "Epoch 59/100\n",
      "120/120 [==============================] - 0s 349us/sample - loss: 0.0825 - acc: 0.9750 - val_loss: 0.0960 - val_acc: 1.0000\n",
      "Epoch 60/100\n",
      "120/120 [==============================] - 0s 302us/sample - loss: 0.0822 - acc: 0.9750 - val_loss: 0.0953 - val_acc: 1.0000\n",
      "Epoch 61/100\n",
      "120/120 [==============================] - 0s 265us/sample - loss: 0.0819 - acc: 0.9750 - val_loss: 0.0945 - val_acc: 1.0000\n",
      "Epoch 62/100\n",
      "120/120 [==============================] - 0s 243us/sample - loss: 0.0815 - acc: 0.9750 - val_loss: 0.0938 - val_acc: 1.0000\n",
      "Epoch 63/100\n",
      "120/120 [==============================] - 0s 251us/sample - loss: 0.0812 - acc: 0.9750 - val_loss: 0.0931 - val_acc: 1.0000\n",
      "Epoch 64/100\n",
      "120/120 [==============================] - 0s 207us/sample - loss: 0.0809 - acc: 0.9750 - val_loss: 0.0924 - val_acc: 1.0000\n",
      "Epoch 65/100\n",
      "120/120 [==============================] - 0s 200us/sample - loss: 0.0806 - acc: 0.9750 - val_loss: 0.0917 - val_acc: 1.0000\n",
      "Epoch 66/100\n",
      "120/120 [==============================] - 0s 222us/sample - loss: 0.0803 - acc: 0.9750 - val_loss: 0.0910 - val_acc: 1.0000\n",
      "Epoch 67/100\n",
      "120/120 [==============================] - 0s 227us/sample - loss: 0.0800 - acc: 0.9750 - val_loss: 0.0904 - val_acc: 1.0000\n",
      "Epoch 68/100\n",
      "120/120 [==============================] - 0s 223us/sample - loss: 0.0797 - acc: 0.9750 - val_loss: 0.0897 - val_acc: 1.0000\n",
      "Epoch 69/100\n",
      "120/120 [==============================] - 0s 225us/sample - loss: 0.0794 - acc: 0.9750 - val_loss: 0.0890 - val_acc: 1.0000\n",
      "Epoch 70/100\n",
      "120/120 [==============================] - 0s 205us/sample - loss: 0.0792 - acc: 0.9750 - val_loss: 0.0884 - val_acc: 1.0000\n",
      "Epoch 71/100\n",
      "120/120 [==============================] - 0s 197us/sample - loss: 0.0789 - acc: 0.9750 - val_loss: 0.0878 - val_acc: 1.0000\n",
      "Epoch 72/100\n",
      "120/120 [==============================] - 0s 202us/sample - loss: 0.0786 - acc: 0.9750 - val_loss: 0.0871 - val_acc: 1.0000\n",
      "Epoch 73/100\n",
      "120/120 [==============================] - 0s 249us/sample - loss: 0.0784 - acc: 0.9750 - val_loss: 0.0865 - val_acc: 1.0000\n",
      "Epoch 74/100\n",
      "120/120 [==============================] - 0s 226us/sample - loss: 0.0781 - acc: 0.9750 - val_loss: 0.0859 - val_acc: 1.0000\n",
      "Epoch 75/100\n",
      "120/120 [==============================] - 0s 246us/sample - loss: 0.0779 - acc: 0.9750 - val_loss: 0.0853 - val_acc: 1.0000\n",
      "Epoch 76/100\n",
      "120/120 [==============================] - 0s 226us/sample - loss: 0.0776 - acc: 0.9750 - val_loss: 0.0847 - val_acc: 1.0000\n",
      "Epoch 77/100\n",
      "120/120 [==============================] - 0s 212us/sample - loss: 0.0774 - acc: 0.9750 - val_loss: 0.0841 - val_acc: 1.0000\n",
      "Epoch 78/100\n",
      "120/120 [==============================] - 0s 230us/sample - loss: 0.0772 - acc: 0.9750 - val_loss: 0.0836 - val_acc: 1.0000\n",
      "Epoch 79/100\n",
      "120/120 [==============================] - 0s 220us/sample - loss: 0.0769 - acc: 0.9750 - val_loss: 0.0830 - val_acc: 1.0000\n",
      "Epoch 80/100\n",
      "120/120 [==============================] - 0s 250us/sample - loss: 0.0767 - acc: 0.9750 - val_loss: 0.0824 - val_acc: 1.0000\n",
      "Epoch 81/100\n",
      "120/120 [==============================] - 0s 220us/sample - loss: 0.0765 - acc: 0.9750 - val_loss: 0.0819 - val_acc: 1.0000\n",
      "Epoch 82/100\n",
      "120/120 [==============================] - 0s 209us/sample - loss: 0.0763 - acc: 0.9750 - val_loss: 0.0813 - val_acc: 1.0000\n",
      "Epoch 83/100\n",
      "120/120 [==============================] - 0s 253us/sample - loss: 0.0761 - acc: 0.9750 - val_loss: 0.0808 - val_acc: 1.0000\n",
      "Epoch 84/100\n",
      "120/120 [==============================] - 0s 249us/sample - loss: 0.0759 - acc: 0.9750 - val_loss: 0.0802 - val_acc: 1.0000\n",
      "Epoch 85/100\n",
      "120/120 [==============================] - 0s 243us/sample - loss: 0.0757 - acc: 0.9750 - val_loss: 0.0797 - val_acc: 1.0000\n",
      "Epoch 86/100\n",
      "120/120 [==============================] - 0s 234us/sample - loss: 0.0755 - acc: 0.9750 - val_loss: 0.0792 - val_acc: 1.0000\n",
      "Epoch 87/100\n",
      "120/120 [==============================] - 0s 225us/sample - loss: 0.0753 - acc: 0.9750 - val_loss: 0.0787 - val_acc: 1.0000\n",
      "Epoch 88/100\n",
      "120/120 [==============================] - 0s 235us/sample - loss: 0.0751 - acc: 0.9833 - val_loss: 0.0782 - val_acc: 1.0000\n",
      "Epoch 89/100\n",
      "120/120 [==============================] - 0s 229us/sample - loss: 0.0749 - acc: 0.9833 - val_loss: 0.0777 - val_acc: 1.0000\n",
      "Epoch 90/100\n",
      "120/120 [==============================] - 0s 226us/sample - loss: 0.0747 - acc: 0.9833 - val_loss: 0.0772 - val_acc: 1.0000\n",
      "Epoch 91/100\n",
      "120/120 [==============================] - 0s 203us/sample - loss: 0.0745 - acc: 0.9833 - val_loss: 0.0767 - val_acc: 1.0000\n",
      "Epoch 92/100\n",
      "120/120 [==============================] - 0s 209us/sample - loss: 0.0743 - acc: 0.9833 - val_loss: 0.0762 - val_acc: 1.0000\n",
      "Epoch 93/100\n",
      "120/120 [==============================] - 0s 274us/sample - loss: 0.0741 - acc: 0.9833 - val_loss: 0.0757 - val_acc: 1.0000\n",
      "Epoch 94/100\n",
      "120/120 [==============================] - 0s 220us/sample - loss: 0.0740 - acc: 0.9833 - val_loss: 0.0752 - val_acc: 1.0000\n",
      "Epoch 95/100\n",
      "120/120 [==============================] - 0s 207us/sample - loss: 0.0738 - acc: 0.9833 - val_loss: 0.0748 - val_acc: 1.0000\n",
      "Epoch 96/100\n",
      "120/120 [==============================] - 0s 211us/sample - loss: 0.0736 - acc: 0.9833 - val_loss: 0.0743 - val_acc: 1.0000\n",
      "Epoch 97/100\n",
      "120/120 [==============================] - 0s 206us/sample - loss: 0.0735 - acc: 0.9833 - val_loss: 0.0738 - val_acc: 1.0000\n",
      "Epoch 98/100\n",
      "120/120 [==============================] - 0s 209us/sample - loss: 0.0733 - acc: 0.9833 - val_loss: 0.0734 - val_acc: 1.0000\n",
      "Epoch 99/100\n",
      "120/120 [==============================] - 0s 219us/sample - loss: 0.0732 - acc: 0.9833 - val_loss: 0.0729 - val_acc: 1.0000\n",
      "Epoch 100/100\n",
      "120/120 [==============================] - 0s 219us/sample - loss: 0.0730 - acc: 0.9833 - val_loss: 0.0725 - val_acc: 1.0000\n",
      "30/30 [==============================] - 0s 18us/sample\n"
     ]
    },
    {
     "data": {
      "image/png": "[encoded data removed]",
      "text/plain": [
       "<Figure size 1200x900 with 2 Axes>"
      ]
     },
     "metadata": {
      "needs_background": "light"
     },
     "output_type": "display_data"
    },
    {
     "data": {
      "image/png": "[encoded data removed]",
      "text/plain": [
       "<Figure size 1200x900 with 1 Axes>"
      ]
     },
     "metadata": {
      "needs_background": "light"
     },
     "output_type": "display_data"
    }
   ],
   "source": [
    "history = framework.get_metric_callback()\n",
    "\n",
    "model.fit(X_train, y_train,\n",
    "          batch_size=batch_size,\n",
    "          epochs=epochs,\n",
    "          verbose=1,\n",
    "          validation_data=(X_test, y_test),\n",
    "          callbacks=[history])\n",
    "\n",
    "y_test_pred = model.predict(X_test, batch_size=128, verbose=1)\n",
    "y_label = data.target_names.tolist()\n",
    "\n",
    "y_test_c = np.argmax(y_test, axis=1).reshape(-1, 1)\n",
    "y_test_pred_c = np.argmax(y_test_pred, axis=1).reshape(-1, 1)\n",
    "\n",
    "\"\"\"\n",
    "모델 학습 후 결과를 저장하고 해당 결과를 UI 상에 노출\n",
    "\"\"\"\n",
    "framework.plot_confusion_matrix(y_test_c, y_test_pred_c, target_names=y_label, title='Confusion Matrix')\n",
    "framework.classification_report(y_test_c, y_test_pred_c, target_names=y_label)\n",
    "framework.plot_roc_curve(y_test, y_test_pred, len(y_label), y_label)\n",
    "\n",
    "\n",
    "'''\n",
    "학습된 모델 저장\n",
    "'''\n",
    "framework.save_model(model, model_name='iris-classification')"
   ]
  },
  {
   "cell_type": "code",
   "execution_count": 1,
   "metadata": {},
   "outputs": [
    {
     "data": {
      "text/plain": [
       "[2, 6, 8]"
      ]
     },
     "execution_count": 1,
     "metadata": {},
     "output_type": "execute_result"
    }
   ],
   "source": [
    "a=[1,2,3,4]\n",
    "[i*2 for i in a if i!=2]"
   ]
  },
  {
   "cell_type": "code",
   "execution_count": 2,
   "metadata": {},
   "outputs": [],
   "source": [
    "import pandas as pd"
   ]
  },
  {
   "cell_type": "code",
   "execution_count": 3,
   "metadata": {},
   "outputs": [
    {
     "name": "stdout",
     "output_type": "stream",
     "text": [
      "Object `pd.dataframe` not found.\n"
     ]
    }
   ],
   "source": [
    "?pd.dataframe"
   ]
  },
  {
   "cell_type": "code",
   "execution_count": 4,
   "metadata": {},
   "outputs": [
    {
     "data": {
      "text/plain": [
       "\u001b[0;31mInit signature:\u001b[0m\n",
       "\u001b[0mpd\u001b[0m\u001b[0;34m.\u001b[0m\u001b[0mDataFrame\u001b[0m\u001b[0;34m(\u001b[0m\u001b[0;34m\u001b[0m\n",
       "\u001b[0;34m\u001b[0m    \u001b[0mdata\u001b[0m\u001b[0;34m=\u001b[0m\u001b[0;32mNone\u001b[0m\u001b[0;34m,\u001b[0m\u001b[0;34m\u001b[0m\n",
       "\u001b[0;34m\u001b[0m    \u001b[0mindex\u001b[0m\u001b[0;34m:\u001b[0m\u001b[0mUnion\u001b[0m\u001b[0;34m[\u001b[0m\u001b[0mCollection\u001b[0m\u001b[0;34m,\u001b[0m \u001b[0mNoneType\u001b[0m\u001b[0;34m]\u001b[0m\u001b[0;34m=\u001b[0m\u001b[0;32mNone\u001b[0m\u001b[0;34m,\u001b[0m\u001b[0;34m\u001b[0m\n",
       "\u001b[0;34m\u001b[0m    \u001b[0mcolumns\u001b[0m\u001b[0;34m:\u001b[0m\u001b[0mUnion\u001b[0m\u001b[0;34m[\u001b[0m\u001b[0mCollection\u001b[0m\u001b[0;34m,\u001b[0m \u001b[0mNoneType\u001b[0m\u001b[0;34m]\u001b[0m\u001b[0;34m=\u001b[0m\u001b[0;32mNone\u001b[0m\u001b[0;34m,\u001b[0m\u001b[0;34m\u001b[0m\n",
       "\u001b[0;34m\u001b[0m    \u001b[0mdtype\u001b[0m\u001b[0;34m:\u001b[0m\u001b[0mUnion\u001b[0m\u001b[0;34m[\u001b[0m\u001b[0mstr\u001b[0m\u001b[0;34m,\u001b[0m \u001b[0mnumpy\u001b[0m\u001b[0;34m.\u001b[0m\u001b[0mdtype\u001b[0m\u001b[0;34m,\u001b[0m \u001b[0m_ForwardRef\u001b[0m\u001b[0;34m(\u001b[0m\u001b[0;34m'ExtensionDtype'\u001b[0m\u001b[0;34m)\u001b[0m\u001b[0;34m,\u001b[0m \u001b[0mNoneType\u001b[0m\u001b[0;34m]\u001b[0m\u001b[0;34m=\u001b[0m\u001b[0;32mNone\u001b[0m\u001b[0;34m,\u001b[0m\u001b[0;34m\u001b[0m\n",
       "\u001b[0;34m\u001b[0m    \u001b[0mcopy\u001b[0m\u001b[0;34m:\u001b[0m\u001b[0mbool\u001b[0m\u001b[0;34m=\u001b[0m\u001b[0;32mFalse\u001b[0m\u001b[0;34m,\u001b[0m\u001b[0;34m\u001b[0m\n",
       "\u001b[0;34m\u001b[0m\u001b[0;34m)\u001b[0m\u001b[0;34m\u001b[0m\u001b[0;34m\u001b[0m\u001b[0m\n",
       "\u001b[0;31mDocstring:\u001b[0m     \n",
       "Two-dimensional, size-mutable, potentially heterogeneous tabular data.\n",
       "\n",
       "Data structure also contains labeled axes (rows and columns).\n",
       "Arithmetic operations align on both row and column labels. Can be\n",
       "thought of as a dict-like container for Series objects. The primary\n",
       "pandas data structure.\n",
       "\n",
       "Parameters\n",
       "----------\n",
       "data : ndarray (structured or homogeneous), Iterable, dict, or DataFrame\n",
       "    Dict can contain Series, arrays, constants, or list-like objects.\n",
       "\n",
       "    .. versionchanged:: 0.23.0\n",
       "       If data is a dict, column order follows insertion-order for\n",
       "       Python 3.6 and later.\n",
       "\n",
       "    .. versionchanged:: 0.25.0\n",
       "       If data is a list of dicts, column order follows insertion-order\n",
       "       for Python 3.6 and later.\n",
       "\n",
       "index : Index or array-like\n",
       "    Index to use for resulting frame. Will default to RangeIndex if\n",
       "    no indexing information part of input data and no index provided.\n",
       "columns : Index or array-like\n",
       "    Column labels to use for resulting frame. Will default to\n",
       "    RangeIndex (0, 1, 2, ..., n) if no column labels are provided.\n",
       "dtype : dtype, default None\n",
       "    Data type to force. Only a single dtype is allowed. If None, infer.\n",
       "copy : bool, default False\n",
       "    Copy data from inputs. Only affects DataFrame / 2d ndarray input.\n",
       "\n",
       "See Also\n",
       "--------\n",
       "DataFrame.from_records : Constructor from tuples, also record arrays.\n",
       "DataFrame.from_dict : From dicts of Series, arrays, or dicts.\n",
       "read_csv\n",
       "read_table\n",
       "read_clipboard\n",
       "\n",
       "Examples\n",
       "--------\n",
       "Constructing DataFrame from a dictionary.\n",
       "\n",
       ">>> d = {'col1': [1, 2], 'col2': [3, 4]}\n",
       ">>> df = pd.DataFrame(data=d)\n",
       ">>> df\n",
       "   col1  col2\n",
       "0     1     3\n",
       "1     2     4\n",
       "\n",
       "Notice that the inferred dtype is int64.\n",
       "\n",
       ">>> df.dtypes\n",
       "col1    int64\n",
       "col2    int64\n",
       "dtype: object\n",
       "\n",
       "To enforce a single dtype:\n",
       "\n",
       ">>> df = pd.DataFrame(data=d, dtype=np.int8)\n",
       ">>> df.dtypes\n",
       "col1    int8\n",
       "col2    int8\n",
       "dtype: object\n",
       "\n",
       "Constructing DataFrame from numpy ndarray:\n",
       "\n",
       ">>> df2 = pd.DataFrame(np.array([[1, 2, 3], [4, 5, 6], [7, 8, 9]]),\n",
       "...                    columns=['a', 'b', 'c'])\n",
       ">>> df2\n",
       "   a  b  c\n",
       "0  1  2  3\n",
       "1  4  5  6\n",
       "2  7  8  9\n",
       "\u001b[0;31mFile:\u001b[0m           /usr/local/lib/python3.6/dist-packages/pandas/core/frame.py\n",
       "\u001b[0;31mType:\u001b[0m           type\n",
       "\u001b[0;31mSubclasses:\u001b[0m     SubclassedDataFrame\n"
      ]
     },
     "metadata": {},
     "output_type": "display_data"
    }
   ],
   "source": [
    "?pd.DataFrame"
   ]
  },
  {
   "cell_type": "code",
   "execution_count": 5,
   "metadata": {},
   "outputs": [
    {
     "ename": "SyntaxError",
     "evalue": "unexpected EOF while parsing (<ipython-input-5-9c6e2ce3670f>, line 1)",
     "output_type": "error",
     "traceback": [
      "\u001b[0;36m  File \u001b[0;32m\"<ipython-input-5-9c6e2ce3670f>\"\u001b[0;36m, line \u001b[0;32m1\u001b[0m\n\u001b[0;31m    def f(a,b) :\u001b[0m\n\u001b[0m                ^\u001b[0m\n\u001b[0;31mSyntaxError\u001b[0m\u001b[0;31m:\u001b[0m unexpected EOF while parsing\n"
     ]
    }
   ],
   "source": [
    "def f(a,b) :"
   ]
  },
  {
   "cell_type": "code",
   "execution_count": 6,
   "metadata": {},
   "outputs": [
    {
     "ename": "SyntaxError",
     "evalue": "unexpected EOF while parsing (<ipython-input-6-de44d4209bb5>, line 1)",
     "output_type": "error",
     "traceback": [
      "\u001b[0;36m  File \u001b[0;32m\"<ipython-input-6-de44d4209bb5>\"\u001b[0;36m, line \u001b[0;32m1\u001b[0m\n\u001b[0;31m    def f(a=1, b=2) :\u001b[0m\n\u001b[0m                     ^\u001b[0m\n\u001b[0;31mSyntaxError\u001b[0m\u001b[0;31m:\u001b[0m unexpected EOF while parsing\n"
     ]
    }
   ],
   "source": [
    "def f(a=1, b=2) :"
   ]
  },
  {
   "cell_type": "code",
   "execution_count": 7,
   "metadata": {},
   "outputs": [],
   "source": [
    "def f(a=1, b=2) :\n",
    "    print(a,b)"
   ]
  },
  {
   "cell_type": "code",
   "execution_count": 8,
   "metadata": {},
   "outputs": [
    {
     "name": "stdout",
     "output_type": "stream",
     "text": [
      "1 3\n"
     ]
    }
   ],
   "source": [
    "f(b=3)"
   ]
  },
  {
   "cell_type": "code",
   "execution_count": 11,
   "metadata": {},
   "outputs": [
    {
     "data": {
      "text/plain": [
       "1048576"
      ]
     },
     "execution_count": 11,
     "metadata": {},
     "output_type": "execute_result"
    }
   ],
   "source": [
    "pow(2,20)"
   ]
  },
  {
   "cell_type": "code",
   "execution_count": 12,
   "metadata": {},
   "outputs": [
    {
     "data": {
      "text/plain": [
       "1048576"
      ]
     },
     "execution_count": 12,
     "metadata": {},
     "output_type": "execute_result"
    }
   ],
   "source": [
    "2**20"
   ]
  },
  {
   "cell_type": "code",
   "execution_count": 13,
   "metadata": {},
   "outputs": [],
   "source": [
    "x=pow(2,4444)"
   ]
  },
  {
   "cell_type": "code",
   "execution_count": 14,
   "metadata": {},
   "outputs": [
    {
     "data": {
      "text/plain": [
       "598826113519121048852891835778285454389231985402215953489980202108393934847948942477265881541985893329937658367749443389496281010391894322409105724241060909438889599387631803095911543899022184739423778253022869199489172725634742027388376008676615145685007972169838897161656087134533029594895480581890051975562693274919272742855964494080844661414619675746478955997029359760654368518998347462152310271671698311165313922389909872248223579111448248169291825787351834480471295186375463375000837035278443050644528796162896788878623288746338144583020031886516373669822699955443301497047345652307957350397426820671983682688371758411522585961757740644446193892797213451788882627082828726271490968078832447525748000384292225026455559242066193703752598910625750856614696569787494076961174235920701851493662891832064019571296302302646539872350090797994962663571524368861927930370276921852152814593646414356275585866754053339483543622550172111117059808967866380216364322346373591744059588928717054614420587445857304970984948435164338946498683687193767039494043173281912615033257010512004995453678898130585688563250359408616205438530211826912652996277064121539154486680052093218142476355387179393867150128951740343628973499100055087563184539650733848311920542903767553584608163794108638805629276199786607709521385552589423894981993683542571390039228416"
      ]
     },
     "execution_count": 14,
     "metadata": {},
     "output_type": "execute_result"
    }
   ],
   "source": [
    "x"
   ]
  },
  {
   "cell_type": "code",
   "execution_count": 15,
   "metadata": {},
   "outputs": [
    {
     "ename": "NameError",
     "evalue": "name 'inf' is not defined",
     "output_type": "error",
     "traceback": [
      "\u001b[0;31m---------------------------------------------------------------------------\u001b[0m",
      "\u001b[0;31mNameError\u001b[0m                                 Traceback (most recent call last)",
      "\u001b[0;32m<ipython-input-15-89ae0d651b32>\u001b[0m in \u001b[0;36m<module>\u001b[0;34m\u001b[0m\n\u001b[0;32m----> 1\u001b[0;31m \u001b[0mfloat\u001b[0m\u001b[0;34m(\u001b[0m\u001b[0minf\u001b[0m\u001b[0;34m)\u001b[0m\u001b[0;34m\u001b[0m\u001b[0;34m\u001b[0m\u001b[0m\n\u001b[0m",
      "\u001b[0;31mNameError\u001b[0m: name 'inf' is not defined"
     ]
    }
   ],
   "source": [
    "float(inf)"
   ]
  },
  {
   "cell_type": "code",
   "execution_count": 18,
   "metadata": {},
   "outputs": [
    {
     "name": "stdout",
     "output_type": "stream",
     "text": [
      "cool\n"
     ]
    }
   ],
   "source": [
    "if x < float('inf') :\n",
    " print ('cool')"
   ]
  },
  {
   "cell_type": "code",
   "execution_count": null,
   "metadata": {},
   "outputs": [],
   "source": []
  }
 ],
 "metadata": {
  "kernelspec": {
   "display_name": "Python 3",
   "language": "python",
   "name": "python3"
  },
  "language_info": {
   "codemirror_mode": {
    "name": "ipython",
    "version": 3
   },
   "file_extension": ".py",
   "mimetype": "text/x-python",
   "name": "python",
   "nbconvert_exporter": "python",
   "pygments_lexer": "ipython3",
   "version": "3.6.8"
  }
 },
 "nbformat": 4,
 "nbformat_minor": 4
}
